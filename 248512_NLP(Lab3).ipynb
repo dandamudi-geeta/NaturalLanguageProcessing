{
  "nbformat": 4,
  "nbformat_minor": 0,
  "metadata": {
    "colab": {
      "provenance": [],
      "gpuType": "T4"
    },
    "kernelspec": {
      "name": "python3",
      "display_name": "Python 3"
    },
    "language_info": {
      "name": "python"
    },
    "accelerator": "GPU"
  },
  "cells": [
    {
      "cell_type": "code",
      "execution_count": null,
      "metadata": {
        "id": "RPNmls4UJeCr"
      },
      "outputs": [],
      "source": [
        "import nltk\n"
      ]
    },
    {
      "cell_type": "markdown",
      "source": [
        "tokenization for german"
      ],
      "metadata": {
        "id": "EwwPoK-zT-nP"
      }
    },
    {
      "cell_type": "code",
      "source": [
        "nltk.download('punkt')\n",
        "from nltk.tokenize import word_tokenize\n",
        "\n",
        "german_text = \"Guten Morgen! Wie geht es Ihnen?\"\n",
        "\n",
        "german_tokens = word_tokenize(german_text, language='german')\n",
        "\n",
        "print(german_tokens)\n"
      ],
      "metadata": {
        "colab": {
          "base_uri": "https://localhost:8080/"
        },
        "id": "M6wllC7TJfYX",
        "outputId": "739b46f7-9195-49e7-c5d7-ca9f872ac4b5"
      },
      "execution_count": null,
      "outputs": [
        {
          "output_type": "stream",
          "name": "stdout",
          "text": [
            "['Guten', 'Morgen', '!', 'Wie', 'geht', 'es', 'Ihnen', '?']\n"
          ]
        },
        {
          "output_type": "stream",
          "name": "stderr",
          "text": [
            "[nltk_data] Downloading package punkt to /root/nltk_data...\n",
            "[nltk_data]   Package punkt is already up-to-date!\n"
          ]
        }
      ]
    },
    {
      "cell_type": "markdown",
      "source": [
        "tokenization for kannada![nltk indian lang.webp](data:image/webp;base64,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)"
      ],
      "metadata": {
        "id": "fw84gTvRLoHs"
      }
    },
    {
      "cell_type": "code",
      "source": [
        "pip install indic-nlp-library"
      ],
      "metadata": {
        "colab": {
          "base_uri": "https://localhost:8080/"
        },
        "id": "BNEzxhlKQUsk",
        "outputId": "958b5541-ecf2-4e73-d68c-f9b1518e95cb"
      },
      "execution_count": null,
      "outputs": [
        {
          "output_type": "stream",
          "name": "stdout",
          "text": [
            "Requirement already satisfied: indic-nlp-library in /usr/local/lib/python3.10/dist-packages (0.92)\n",
            "Requirement already satisfied: sphinx-argparse in /usr/local/lib/python3.10/dist-packages (from indic-nlp-library) (0.4.0)\n",
            "Requirement already satisfied: sphinx-rtd-theme in /usr/local/lib/python3.10/dist-packages (from indic-nlp-library) (2.0.0)\n",
            "Requirement already satisfied: morfessor in /usr/local/lib/python3.10/dist-packages (from indic-nlp-library) (2.0.6)\n",
            "Requirement already satisfied: pandas in /usr/local/lib/python3.10/dist-packages (from indic-nlp-library) (1.5.3)\n",
            "Requirement already satisfied: numpy in /usr/local/lib/python3.10/dist-packages (from indic-nlp-library) (1.25.2)\n",
            "Requirement already satisfied: python-dateutil>=2.8.1 in /usr/local/lib/python3.10/dist-packages (from pandas->indic-nlp-library) (2.8.2)\n",
            "Requirement already satisfied: pytz>=2020.1 in /usr/local/lib/python3.10/dist-packages (from pandas->indic-nlp-library) (2023.4)\n",
            "Requirement already satisfied: sphinx>=1.2.0 in /usr/local/lib/python3.10/dist-packages (from sphinx-argparse->indic-nlp-library) (5.0.2)\n",
            "Requirement already satisfied: docutils<0.21 in /usr/local/lib/python3.10/dist-packages (from sphinx-rtd-theme->indic-nlp-library) (0.18.1)\n",
            "Requirement already satisfied: sphinxcontrib-jquery<5,>=4 in /usr/local/lib/python3.10/dist-packages (from sphinx-rtd-theme->indic-nlp-library) (4.1)\n",
            "Requirement already satisfied: six>=1.5 in /usr/local/lib/python3.10/dist-packages (from python-dateutil>=2.8.1->pandas->indic-nlp-library) (1.16.0)\n",
            "Requirement already satisfied: sphinxcontrib-applehelp in /usr/local/lib/python3.10/dist-packages (from sphinx>=1.2.0->sphinx-argparse->indic-nlp-library) (1.0.8)\n",
            "Requirement already satisfied: sphinxcontrib-devhelp in /usr/local/lib/python3.10/dist-packages (from sphinx>=1.2.0->sphinx-argparse->indic-nlp-library) (1.0.6)\n",
            "Requirement already satisfied: sphinxcontrib-jsmath in /usr/local/lib/python3.10/dist-packages (from sphinx>=1.2.0->sphinx-argparse->indic-nlp-library) (1.0.1)\n",
            "Requirement already satisfied: sphinxcontrib-htmlhelp>=2.0.0 in /usr/local/lib/python3.10/dist-packages (from sphinx>=1.2.0->sphinx-argparse->indic-nlp-library) (2.0.5)\n",
            "Requirement already satisfied: sphinxcontrib-serializinghtml>=1.1.5 in /usr/local/lib/python3.10/dist-packages (from sphinx>=1.2.0->sphinx-argparse->indic-nlp-library) (1.1.10)\n",
            "Requirement already satisfied: sphinxcontrib-qthelp in /usr/local/lib/python3.10/dist-packages (from sphinx>=1.2.0->sphinx-argparse->indic-nlp-library) (1.0.7)\n",
            "Requirement already satisfied: Jinja2>=2.3 in /usr/local/lib/python3.10/dist-packages (from sphinx>=1.2.0->sphinx-argparse->indic-nlp-library) (3.1.3)\n",
            "Requirement already satisfied: Pygments>=2.0 in /usr/local/lib/python3.10/dist-packages (from sphinx>=1.2.0->sphinx-argparse->indic-nlp-library) (2.16.1)\n",
            "Requirement already satisfied: snowballstemmer>=1.1 in /usr/local/lib/python3.10/dist-packages (from sphinx>=1.2.0->sphinx-argparse->indic-nlp-library) (2.2.0)\n",
            "Requirement already satisfied: babel>=1.3 in /usr/local/lib/python3.10/dist-packages (from sphinx>=1.2.0->sphinx-argparse->indic-nlp-library) (2.14.0)\n",
            "Requirement already satisfied: alabaster<0.8,>=0.7 in /usr/local/lib/python3.10/dist-packages (from sphinx>=1.2.0->sphinx-argparse->indic-nlp-library) (0.7.16)\n",
            "Requirement already satisfied: imagesize in /usr/local/lib/python3.10/dist-packages (from sphinx>=1.2.0->sphinx-argparse->indic-nlp-library) (1.4.1)\n",
            "Requirement already satisfied: requests>=2.5.0 in /usr/local/lib/python3.10/dist-packages (from sphinx>=1.2.0->sphinx-argparse->indic-nlp-library) (2.31.0)\n",
            "Requirement already satisfied: packaging in /usr/local/lib/python3.10/dist-packages (from sphinx>=1.2.0->sphinx-argparse->indic-nlp-library) (23.2)\n",
            "Requirement already satisfied: MarkupSafe>=2.0 in /usr/local/lib/python3.10/dist-packages (from Jinja2>=2.3->sphinx>=1.2.0->sphinx-argparse->indic-nlp-library) (2.1.5)\n",
            "Requirement already satisfied: charset-normalizer<4,>=2 in /usr/local/lib/python3.10/dist-packages (from requests>=2.5.0->sphinx>=1.2.0->sphinx-argparse->indic-nlp-library) (3.3.2)\n",
            "Requirement already satisfied: idna<4,>=2.5 in /usr/local/lib/python3.10/dist-packages (from requests>=2.5.0->sphinx>=1.2.0->sphinx-argparse->indic-nlp-library) (3.6)\n",
            "Requirement already satisfied: urllib3<3,>=1.21.1 in /usr/local/lib/python3.10/dist-packages (from requests>=2.5.0->sphinx>=1.2.0->sphinx-argparse->indic-nlp-library) (2.0.7)\n",
            "Requirement already satisfied: certifi>=2017.4.17 in /usr/local/lib/python3.10/dist-packages (from requests>=2.5.0->sphinx>=1.2.0->sphinx-argparse->indic-nlp-library) (2024.2.2)\n"
          ]
        }
      ]
    },
    {
      "cell_type": "code",
      "source": [
        "from indicnlp.tokenize import indic_tokenize\n",
        "\n",
        "kannada_text = \"ಶುಭೋದಯ! ನೀವು ಹೇಗಿದ್ದೀರಿ?\"\n",
        "\n",
        "kannada_tokens = indic_tokenize.trivial_tokenize(kannada_text)\n",
        "\n",
        "print(kannada_tokens)"
      ],
      "metadata": {
        "colab": {
          "base_uri": "https://localhost:8080/"
        },
        "id": "BCbPIELzJfrG",
        "outputId": "7992cdc3-7afd-4fd3-abe5-e39663d9d724"
      },
      "execution_count": null,
      "outputs": [
        {
          "output_type": "stream",
          "name": "stdout",
          "text": [
            "['ಶುಭೋದಯ', '!', 'ನೀವು', 'ಹೇಗಿದ್ದೀರಿ', '?']\n"
          ]
        }
      ]
    },
    {
      "cell_type": "markdown",
      "source": [
        "language detection"
      ],
      "metadata": {
        "id": "lU376Q_yUJeZ"
      }
    },
    {
      "cell_type": "code",
      "source": [
        "from langdetect import detect\n",
        "\n",
        "text = \"வணக்கம் உலகம்\"\n",
        "\n",
        "language = detect(text)\n",
        "\n",
        "print(language)\n"
      ],
      "metadata": {
        "colab": {
          "base_uri": "https://localhost:8080/"
        },
        "id": "4WcufGbtJfui",
        "outputId": "201518de-65f4-4ad5-f5fb-e2f3ca656acd"
      },
      "execution_count": null,
      "outputs": [
        {
          "output_type": "stream",
          "name": "stdout",
          "text": [
            "ta\n"
          ]
        }
      ]
    },
    {
      "cell_type": "code",
      "source": [
        "from langdetect import detect\n",
        "\n",
        "text = \"ಶುಭೋದಯ\"\n",
        "\n",
        "language = detect(text)\n",
        "\n",
        "print(language)"
      ],
      "metadata": {
        "colab": {
          "base_uri": "https://localhost:8080/"
        },
        "id": "2Lp4XfnMNqKV",
        "outputId": "325fb7fe-af7b-4b7c-e406-d10aaff528ac"
      },
      "execution_count": null,
      "outputs": [
        {
          "output_type": "stream",
          "name": "stdout",
          "text": [
            "kn\n"
          ]
        }
      ]
    },
    {
      "cell_type": "code",
      "source": [
        "\n",
        "indic_string='सुनो, कुछ आवाज़ आ रही है। फोन?'\n",
        "for t in indic_tokenize.trivial_tokenize(indic_string):\n",
        "    print(t)"
      ],
      "metadata": {
        "colab": {
          "base_uri": "https://localhost:8080/"
        },
        "id": "xsLyp8vCOVfz",
        "outputId": "fa28a967-2a78-480e-ddc1-e6fe358413bb"
      },
      "execution_count": null,
      "outputs": [
        {
          "output_type": "stream",
          "name": "stdout",
          "text": [
            "सुनो\n",
            ",\n",
            "कुछ\n",
            "आवाज़\n",
            "आ\n",
            "रही\n",
            "है\n",
            "।\n",
            "फोन\n",
            "?\n"
          ]
        }
      ]
    },
    {
      "cell_type": "markdown",
      "source": [],
      "metadata": {
        "id": "noFC-LX3TG_O"
      }
    },
    {
      "cell_type": "code",
      "source": [],
      "metadata": {
        "id": "lsxDWi4EUqHg"
      },
      "execution_count": null,
      "outputs": []
    }
  ]
}