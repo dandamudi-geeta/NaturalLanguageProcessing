{
  "nbformat": 4,
  "nbformat_minor": 0,
  "metadata": {
    "colab": {
      "provenance": [],
      "authorship_tag": "ABX9TyNch9GDxQn6ExHIKm6q554g",
      "include_colab_link": true
    },
    "kernelspec": {
      "name": "python3",
      "display_name": "Python 3"
    },
    "language_info": {
      "name": "python"
    }
  },
  "cells": [
    {
      "cell_type": "markdown",
      "metadata": {
        "id": "view-in-github",
        "colab_type": "text"
      },
      "source": [
        "<a href=\"https://colab.research.google.com/github/dandamudi-geeta/NaturalLanguageProcessing/blob/main/2348512_NLP(Lab7).ipynb\" target=\"_parent\"><img src=\"https://colab.research.google.com/assets/colab-badge.svg\" alt=\"Open In Colab\"/></a>"
      ]
    },
    {
      "cell_type": "markdown",
      "source": [
        "**1. Find the similarity between two documents (2 corpus or two paragraphs) using any of the two similarity measures.**\n"
      ],
      "metadata": {
        "id": "F9sXFTQbQsUu"
      }
    },
    {
      "cell_type": "code",
      "source": [
        "from sklearn.feature_extraction.text import TfidfVectorizer\n",
        "from sklearn.metrics.pairwise import cosine_similarity"
      ],
      "metadata": {
        "id": "QPqO7dqvQskN"
      },
      "execution_count": null,
      "outputs": []
    },
    {
      "cell_type": "code",
      "source": [
        "# Define the two documents (corpus or paragraphs)\n",
        "document1 = \"Butterflies play a crucial role in pollination, aiding in the reproduction of many plant species. The intricate patterns and vivid colors on their wings serve as a defense mechanism against predators, as well as a means of attracting potential mates. They are not only essential to the ecosystem but also represent beauty, transformation, and resilience in cultures around the world. Observing their delicate flight and vibrant hues brings joy and wonder to people of all ages, making them a cherished symbol of nature's beauty.\"\n",
        "document2 = \"Butterflies are fascinating insects belonging to the order Lepidoptera, known for their colorful wings and graceful flight. These insects undergo a remarkable transformation known as metamorphosis, starting as eggs laid on host plants by adult females. After hatching, the larvae, commonly known as caterpillars, undergo several molts as they feed voraciously on leaves, growing and storing energy for their next stage. Once the caterpillar has stored enough energy, it forms a chrysalis where it undergoes metamorphosis, eventually emerging as a beautiful adult butterfly. \"\n"
      ],
      "metadata": {
        "id": "mFfPcpktPw95"
      },
      "execution_count": null,
      "outputs": []
    },
    {
      "cell_type": "code",
      "source": [
        "# Create a list containing the two documents\n",
        "documents = [document1, document2]"
      ],
      "metadata": {
        "id": "XQzLWlBiPxAl"
      },
      "execution_count": null,
      "outputs": []
    },
    {
      "cell_type": "code",
      "source": [
        "# Create the TF-IDF Vectorizer\n",
        "vectorizer = TfidfVectorizer()"
      ],
      "metadata": {
        "id": "BK3JQ7-BPxDT"
      },
      "execution_count": null,
      "outputs": []
    },
    {
      "cell_type": "code",
      "source": [
        "# Fit and transform the documents into TF-IDF vectors\n",
        "tfidf_matrix = vectorizer.fit_transform(documents)"
      ],
      "metadata": {
        "id": "NuO1fxAhPxF6"
      },
      "execution_count": null,
      "outputs": []
    },
    {
      "cell_type": "code",
      "source": [
        "# Calculate the Cosine Similarity between the two documents\n",
        "cosine_sim = cosine_similarity(tfidf_matrix)"
      ],
      "metadata": {
        "id": "Hqev-0fdPxIR"
      },
      "execution_count": null,
      "outputs": []
    },
    {
      "cell_type": "code",
      "source": [
        "print(\"Cosine Similarity:\")\n",
        "print(cosine_sim)\n"
      ],
      "metadata": {
        "colab": {
          "base_uri": "https://localhost:8080/"
        },
        "id": "JcpPBfecPxLH",
        "outputId": "8c71ce77-913f-4667-9b24-4503968eff18"
      },
      "execution_count": null,
      "outputs": [
        {
          "output_type": "stream",
          "name": "stdout",
          "text": [
            "Cosine Similarity:\n",
            "[[1.         0.23381996]\n",
            " [0.23381996 1.        ]]\n"
          ]
        }
      ]
    },
    {
      "cell_type": "code",
      "source": [
        "# Calculate the Jaccard Similarity between the two documents\n",
        "doc1_words = set(document1.split())\n",
        "doc2_words = set(document2.split())\n",
        "jaccard_sim = len(doc1_words.intersection(doc2_words)) / len(doc1_words.union(doc2_words))"
      ],
      "metadata": {
        "id": "G5J1uBDFPxN1"
      },
      "execution_count": null,
      "outputs": []
    },
    {
      "cell_type": "code",
      "source": [
        "print(\"\\nJaccard Similarity:\")\n",
        "print(jaccard_sim)\n"
      ],
      "metadata": {
        "colab": {
          "base_uri": "https://localhost:8080/"
        },
        "id": "FyNBSBw2PxQZ",
        "outputId": "b6451ff9-183c-409a-da8a-7a8923c986ce"
      },
      "execution_count": null,
      "outputs": [
        {
          "output_type": "stream",
          "name": "stdout",
          "text": [
            "\n",
            "Jaccard Similarity:\n",
            "0.08264462809917356\n"
          ]
        }
      ]
    },
    {
      "cell_type": "markdown",
      "source": [
        "**2. Implement the Sentiment Analysis using Bayesian Classification**"
      ],
      "metadata": {
        "id": "Tbpput6fQ_je"
      }
    },
    {
      "cell_type": "code",
      "source": [
        "import nltk\n",
        "nltk.download('movie_reviews')\n",
        "nltk.download('punkt')\n",
        "\n",
        "# Import necessary libraries\n",
        "from nltk.corpus import movie_reviews\n",
        "import random\n"
      ],
      "metadata": {
        "colab": {
          "base_uri": "https://localhost:8080/"
        },
        "id": "tZuBMMoHRSpf",
        "outputId": "287cd0b4-3817-4d0d-8742-dd4a913342f8"
      },
      "execution_count": null,
      "outputs": [
        {
          "output_type": "stream",
          "name": "stderr",
          "text": [
            "[nltk_data] Downloading package movie_reviews to /root/nltk_data...\n",
            "[nltk_data]   Unzipping corpora/movie_reviews.zip.\n",
            "[nltk_data] Downloading package punkt to /root/nltk_data...\n",
            "[nltk_data]   Unzipping tokenizers/punkt.zip.\n"
          ]
        }
      ]
    },
    {
      "cell_type": "code",
      "source": [
        "# Import necessary libraries\n",
        "from nltk.corpus import movie_reviews\n",
        "import random"
      ],
      "metadata": {
        "id": "Jz716gmjRW2U"
      },
      "execution_count": null,
      "outputs": []
    },
    {
      "cell_type": "code",
      "source": [
        "# Prepare the data\n",
        "documents = [(list(movie_reviews.words(fileid)), category)\n",
        "             for category in movie_reviews.categories()\n",
        "             for fileid in movie_reviews.fileids(category)]"
      ],
      "metadata": {
        "id": "6btTt4fZRW5I"
      },
      "execution_count": null,
      "outputs": []
    },
    {
      "cell_type": "code",
      "source": [
        "random.shuffle(documents)"
      ],
      "metadata": {
        "id": "rG8AGBBaRW8D"
      },
      "execution_count": null,
      "outputs": []
    },
    {
      "cell_type": "code",
      "source": [
        "all_words = nltk.FreqDist(w.lower() for w in movie_reviews.words())\n",
        "word_features = list(all_words)[:2000]"
      ],
      "metadata": {
        "id": "jmSKUGnORW-j"
      },
      "execution_count": null,
      "outputs": []
    },
    {
      "cell_type": "code",
      "source": [
        "# Feature extraction function\n",
        "def document_features(document):\n",
        "    document_words = set(document)\n",
        "    features = {}\n",
        "    for word in word_features:\n",
        "        features['contains({})'.format(word)] = (word in document_words)\n",
        "    return features"
      ],
      "metadata": {
        "id": "wIPEkFjwRXBM"
      },
      "execution_count": null,
      "outputs": []
    },
    {
      "cell_type": "code",
      "source": [
        "# Extract features from the documents\n",
        "featuresets = [(document_features(d), c) for (d,c) in documents]\n",
        "train_set, test_set = featuresets[100:], featuresets[:100]"
      ],
      "metadata": {
        "id": "QaP7mxNxRXDx"
      },
      "execution_count": null,
      "outputs": []
    },
    {
      "cell_type": "code",
      "source": [
        "# Train the classifier\n",
        "classifier = nltk.NaiveBayesClassifier.train(train_set)\n"
      ],
      "metadata": {
        "id": "OblSPaD2RXGB"
      },
      "execution_count": null,
      "outputs": []
    },
    {
      "cell_type": "code",
      "source": [
        "# Test the classifier\n",
        "print(nltk.classify.accuracy(classifier, test_set))"
      ],
      "metadata": {
        "colab": {
          "base_uri": "https://localhost:8080/"
        },
        "id": "7YC6jXfMRXJW",
        "outputId": "2a6808e5-a401-40f9-9ad4-319030a9af55"
      },
      "execution_count": null,
      "outputs": [
        {
          "output_type": "stream",
          "name": "stdout",
          "text": [
            "0.82\n"
          ]
        }
      ]
    },
    {
      "cell_type": "code",
      "source": [
        "# Example use of the classifier\n",
        "sentence = \"This movie is great and awesome\"\n",
        "features = document_features(sentence.split())\n",
        "print(classifier.classify(features))"
      ],
      "metadata": {
        "colab": {
          "base_uri": "https://localhost:8080/"
        },
        "id": "jd9FIXZxRseq",
        "outputId": "606b7ade-c504-4254-a05e-6933c9c8db41"
      },
      "execution_count": null,
      "outputs": [
        {
          "output_type": "stream",
          "name": "stdout",
          "text": [
            "neg\n"
          ]
        }
      ]
    },
    {
      "cell_type": "code",
      "source": [],
      "metadata": {
        "id": "wv-N-j58R1Cg"
      },
      "execution_count": null,
      "outputs": []
    }
  ]
}