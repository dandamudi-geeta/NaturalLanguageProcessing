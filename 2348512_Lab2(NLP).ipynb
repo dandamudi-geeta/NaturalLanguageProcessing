{
  "nbformat": 4,
  "nbformat_minor": 0,
  "metadata": {
    "colab": {
      "provenance": [],
      "include_colab_link": true
    },
    "kernelspec": {
      "name": "python3",
      "display_name": "Python 3"
    },
    "language_info": {
      "name": "python"
    }
  },
  "cells": [
    {
      "cell_type": "markdown",
      "metadata": {
        "id": "view-in-github",
        "colab_type": "text"
      },
      "source": [
        "<a href=\"https://colab.research.google.com/github/dandamudi-geeta/NaturalLanguageProcessing/blob/main/2348512_Lab2(NLP).ipynb\" target=\"_parent\"><img src=\"https://colab.research.google.com/assets/colab-badge.svg\" alt=\"Open In Colab\"/></a>"
      ]
    },
    {
      "cell_type": "code",
      "source": [
        "import nltk"
      ],
      "metadata": {
        "id": "P2I9yzLG7mOx"
      },
      "execution_count": null,
      "outputs": []
    },
    {
      "cell_type": "code",
      "source": [
        "from nltk.tokenize import word_tokenize\n",
        "text =\"Crafting a standout resume can be a daunting task, but it's essential for showcasing your skills and experience to potential employers. Don’t underestimate the power of a well-formatted, content-rich CV. It's not just a mere piece of paper; it's your gateway to career opportunities. Including relevant achievements, such as exceeding sales targets or leading successful projects, can greatly enhance your resume.I started my career in 06-10-2020,u can jst contact me on 0123456789\""
      ],
      "metadata": {
        "id": "pu7hn64L8ZYV"
      },
      "execution_count": null,
      "outputs": []
    },
    {
      "cell_type": "code",
      "source": [
        "tokens=text.split()\n",
        "print(tokens)"
      ],
      "metadata": {
        "colab": {
          "base_uri": "https://localhost:8080/"
        },
        "id": "hUzmF3vx8fu2",
        "outputId": "50ab06d9-eb8e-4a2f-c18c-86a5724be049"
      },
      "execution_count": null,
      "outputs": [
        {
          "output_type": "stream",
          "name": "stdout",
          "text": [
            "['Crafting', 'a', 'standout', 'resume', 'can', 'be', 'a', 'daunting', 'task,', 'but', \"it's\", 'essential', 'for', 'showcasing', 'your', 'skills', 'and', 'experience', 'to', 'potential', 'employers.', 'Don’t', 'underestimate', 'the', 'power', 'of', 'a', 'well-formatted,', 'content-rich', 'CV.', \"It's\", 'not', 'just', 'a', 'mere', 'piece', 'of', 'paper;', \"it's\", 'your', 'gateway', 'to', 'career', 'opportunities.', 'Including', 'relevant', 'achievements,', 'such', 'as', 'exceeding', 'sales', 'targets', 'or', 'leading', 'successful', 'projects,', 'can', 'greatly', 'enhance', 'your', 'resume.I', 'started', 'my', 'career', 'in', '06-10-2020,u', 'can', 'jst', 'contact', 'me', 'on', '0123456789']\n"
          ]
        }
      ]
    },
    {
      "cell_type": "markdown",
      "source": [
        "**Counting Unique words in the text**"
      ],
      "metadata": {
        "id": "LJrl8wdY8nl1"
      }
    },
    {
      "cell_type": "code",
      "source": [
        "unique_words = set(text.split())\n",
        "print(unique_words)\n",
        "\n",
        "length = len(unique_words)\n",
        "print(length)"
      ],
      "metadata": {
        "colab": {
          "base_uri": "https://localhost:8080/"
        },
        "id": "Hq-_tHgc8lki",
        "outputId": "0fd47a5e-59fa-4d29-f9ea-984841e53105"
      },
      "execution_count": null,
      "outputs": [
        {
          "output_type": "stream",
          "name": "stdout",
          "text": [
            "{'potential', 'mere', 'career', 'successful', 'the', 'on', 'sales', 'and', 'daunting', 'paper;', '0123456789', 'greatly', 'in', '06-10-2020,u', 'to', 'for', 'essential', 'standout', 'piece', 'showcasing', 'targets', 'leading', 'experience', 'Crafting', 'exceeding', 'power', 'projects,', 'a', 'be', 'can', 'me', 'CV.', \"It's\", 'Including', 'just', 'contact', 'but', 'your', 'or', 'opportunities.', \"it's\", 'content-rich', 'skills', 'as', 'resume.I', 'gateway', 'resume', 'Don’t', 'my', 'task,', 'employers.', 'underestimate', 'of', 'such', 'relevant', 'started', 'well-formatted,', 'achievements,', 'enhance', 'jst', 'not'}\n",
            "61\n"
          ]
        }
      ]
    },
    {
      "cell_type": "code",
      "source": [
        "wordlist = text.split()\n",
        "\n",
        "wordfreq = []\n",
        "for w in wordlist:\n",
        "    wordfreq.append(wordlist.count(w))\n",
        "\n",
        "print(\"String\\n\" + text +\"\\n\")\n",
        "print(\"List\\n\" + str(wordlist) + \"\\n\")\n",
        "print(\"Frequencies\\n\" + str(wordfreq) + \"\\n\")\n",
        "print(\"Pairs\\n\" + str(list(zip(wordlist, wordfreq))))"
      ],
      "metadata": {
        "colab": {
          "base_uri": "https://localhost:8080/"
        },
        "id": "wMn4LKr-8tIK",
        "outputId": "df034890-d818-4433-de68-c4815970025b"
      },
      "execution_count": null,
      "outputs": [
        {
          "output_type": "stream",
          "name": "stdout",
          "text": [
            "String\n",
            "Crafting a standout resume can be a daunting task, but it's essential for showcasing your skills and experience to potential employers. Don’t underestimate the power of a well-formatted, content-rich CV. It's not just a mere piece of paper; it's your gateway to career opportunities. Including relevant achievements, such as exceeding sales targets or leading successful projects, can greatly enhance your resume.I started my career in 06-10-2020,u can jst contact me on 0123456789\n",
            "\n",
            "List\n",
            "['Crafting', 'a', 'standout', 'resume', 'can', 'be', 'a', 'daunting', 'task,', 'but', \"it's\", 'essential', 'for', 'showcasing', 'your', 'skills', 'and', 'experience', 'to', 'potential', 'employers.', 'Don’t', 'underestimate', 'the', 'power', 'of', 'a', 'well-formatted,', 'content-rich', 'CV.', \"It's\", 'not', 'just', 'a', 'mere', 'piece', 'of', 'paper;', \"it's\", 'your', 'gateway', 'to', 'career', 'opportunities.', 'Including', 'relevant', 'achievements,', 'such', 'as', 'exceeding', 'sales', 'targets', 'or', 'leading', 'successful', 'projects,', 'can', 'greatly', 'enhance', 'your', 'resume.I', 'started', 'my', 'career', 'in', '06-10-2020,u', 'can', 'jst', 'contact', 'me', 'on', '0123456789']\n",
            "\n",
            "Frequencies\n",
            "[1, 4, 1, 1, 3, 1, 4, 1, 1, 1, 2, 1, 1, 1, 3, 1, 1, 1, 2, 1, 1, 1, 1, 1, 1, 2, 4, 1, 1, 1, 1, 1, 1, 4, 1, 1, 2, 1, 2, 3, 1, 2, 2, 1, 1, 1, 1, 1, 1, 1, 1, 1, 1, 1, 1, 1, 3, 1, 1, 3, 1, 1, 1, 2, 1, 1, 3, 1, 1, 1, 1, 1]\n",
            "\n",
            "Pairs\n",
            "[('Crafting', 1), ('a', 4), ('standout', 1), ('resume', 1), ('can', 3), ('be', 1), ('a', 4), ('daunting', 1), ('task,', 1), ('but', 1), (\"it's\", 2), ('essential', 1), ('for', 1), ('showcasing', 1), ('your', 3), ('skills', 1), ('and', 1), ('experience', 1), ('to', 2), ('potential', 1), ('employers.', 1), ('Don’t', 1), ('underestimate', 1), ('the', 1), ('power', 1), ('of', 2), ('a', 4), ('well-formatted,', 1), ('content-rich', 1), ('CV.', 1), (\"It's\", 1), ('not', 1), ('just', 1), ('a', 4), ('mere', 1), ('piece', 1), ('of', 2), ('paper;', 1), (\"it's\", 2), ('your', 3), ('gateway', 1), ('to', 2), ('career', 2), ('opportunities.', 1), ('Including', 1), ('relevant', 1), ('achievements,', 1), ('such', 1), ('as', 1), ('exceeding', 1), ('sales', 1), ('targets', 1), ('or', 1), ('leading', 1), ('successful', 1), ('projects,', 1), ('can', 3), ('greatly', 1), ('enhance', 1), ('your', 3), ('resume.I', 1), ('started', 1), ('my', 1), ('career', 2), ('in', 1), ('06-10-2020,u', 1), ('can', 3), ('jst', 1), ('contact', 1), ('me', 1), ('on', 1), ('0123456789', 1)]\n"
          ]
        }
      ]
    },
    {
      "cell_type": "markdown",
      "source": [
        "**To count punctuation marks and remove them**"
      ],
      "metadata": {
        "id": "z0HxgkMf8wiL"
      }
    },
    {
      "cell_type": "code",
      "source": [
        "import string\n",
        "# To Count the number of punctuation characters\n",
        "num_punctuations = sum([1 for char in text if char in string.punctuation])\n",
        "# To Remove punctuations\n",
        "text = text.translate(str.maketrans('', '', string.punctuation))\n",
        "print(\"Number of punctuation characters:\", num_punctuations)\n",
        "print(\"Cleaned text without punctuations:\", text)"
      ],
      "metadata": {
        "colab": {
          "base_uri": "https://localhost:8080/"
        },
        "id": "79JWwUv182VH",
        "outputId": "969924df-9dcb-40c0-c626-e0b53f8fe5b2"
      },
      "execution_count": null,
      "outputs": [
        {
          "output_type": "stream",
          "name": "stdout",
          "text": [
            "Number of punctuation characters: 17\n",
            "Cleaned text without punctuations: Crafting a standout resume can be a daunting task but its essential for showcasing your skills and experience to potential employers Don’t underestimate the power of a wellformatted contentrich CV Its not just a mere piece of paper its your gateway to career opportunities Including relevant achievements such as exceeding sales targets or leading successful projects can greatly enhance your resumeI started my career in 06102020u can jst contact me on 0123456789\n"
          ]
        }
      ]
    },
    {
      "cell_type": "markdown",
      "source": [
        "**To plot stopwords in text**"
      ],
      "metadata": {
        "id": "2CrlXjX0867T"
      }
    },
    {
      "cell_type": "code",
      "source": [
        "import nltk\n",
        "nltk.download('punkt')\n",
        "import string\n",
        "import nltk\n",
        "from nltk.corpus import stopwords\n",
        "import matplotlib.pyplot as plt\n",
        "# Tokenize the text\n",
        "tokens = nltk.word_tokenize(text.lower())\n",
        "\n",
        "# Get English stopwords\n",
        "nltk.download('stopwords')\n",
        "stop_words = set(stopwords.words('english'))\n",
        "\n",
        "# Calculate the frequency of each stopword\n",
        "stopword_freq = {}\n",
        "for word in tokens:\n",
        "    if word in stop_words:\n",
        "        if word in stopword_freq:\n",
        "            stopword_freq[word] += 1\n",
        "        else:\n",
        "            stopword_freq[word] = 1\n",
        "\n",
        "# To display\n",
        "plt.figure(figsize=(10, 6))\n",
        "plt.bar(stopword_freq.keys(), stopword_freq.values())\n",
        "plt.xticks(rotation=45)\n",
        "plt.xlabel('Stopwords')\n",
        "plt.ylabel('Frequency')\n",
        "plt.title('Distribution of Stopwords in the Text')\n",
        "plt.show()"
      ],
      "metadata": {
        "colab": {
          "base_uri": "https://localhost:8080/",
          "height": 652
        },
        "id": "QilxPkA39AP2",
        "outputId": "c0804993-073a-4882-f04f-432bddb5b778"
      },
      "execution_count": null,
      "outputs": [
        {
          "output_type": "stream",
          "name": "stderr",
          "text": [
            "[nltk_data] Downloading package punkt to /root/nltk_data...\n",
            "[nltk_data]   Unzipping tokenizers/punkt.zip.\n",
            "[nltk_data] Downloading package stopwords to /root/nltk_data...\n",
            "[nltk_data]   Unzipping corpora/stopwords.zip.\n"
          ]
        },
        {
          "output_type": "display_data",
          "data": {
            "text/plain": [
              "<Figure size 1000x600 with 1 Axes>"
            ],
            "image/png": "[encoded data removed]"
          },
          "metadata": {}
        }
      ]
    },
    {
      "cell_type": "markdown",
      "source": [
        "**Stop words in english by NLTK package**"
      ],
      "metadata": {
        "id": "hAOLRHPM-gL5"
      }
    },
    {
      "cell_type": "code",
      "source": [
        "nltk.download('stopwords')\n",
        "print(stopwords.words('english'))"
      ],
      "metadata": {
        "colab": {
          "base_uri": "https://localhost:8080/"
        },
        "id": "0b2B-kbj9AWr",
        "outputId": "d71caf3d-c313-4420-d10c-0871a9c3e9a2"
      },
      "execution_count": null,
      "outputs": [
        {
          "output_type": "stream",
          "name": "stdout",
          "text": [
            "['i', 'me', 'my', 'myself', 'we', 'our', 'ours', 'ourselves', 'you', \"you're\", \"you've\", \"you'll\", \"you'd\", 'your', 'yours', 'yourself', 'yourselves', 'he', 'him', 'his', 'himself', 'she', \"she's\", 'her', 'hers', 'herself', 'it', \"it's\", 'its', 'itself', 'they', 'them', 'their', 'theirs', 'themselves', 'what', 'which', 'who', 'whom', 'this', 'that', \"that'll\", 'these', 'those', 'am', 'is', 'are', 'was', 'were', 'be', 'been', 'being', 'have', 'has', 'had', 'having', 'do', 'does', 'did', 'doing', 'a', 'an', 'the', 'and', 'but', 'if', 'or', 'because', 'as', 'until', 'while', 'of', 'at', 'by', 'for', 'with', 'about', 'against', 'between', 'into', 'through', 'during', 'before', 'after', 'above', 'below', 'to', 'from', 'up', 'down', 'in', 'out', 'on', 'off', 'over', 'under', 'again', 'further', 'then', 'once', 'here', 'there', 'when', 'where', 'why', 'how', 'all', 'any', 'both', 'each', 'few', 'more', 'most', 'other', 'some', 'such', 'no', 'nor', 'not', 'only', 'own', 'same', 'so', 'than', 'too', 'very', 's', 't', 'can', 'will', 'just', 'don', \"don't\", 'should', \"should've\", 'now', 'd', 'll', 'm', 'o', 're', 've', 'y', 'ain', 'aren', \"aren't\", 'couldn', \"couldn't\", 'didn', \"didn't\", 'doesn', \"doesn't\", 'hadn', \"hadn't\", 'hasn', \"hasn't\", 'haven', \"haven't\", 'isn', \"isn't\", 'ma', 'mightn', \"mightn't\", 'mustn', \"mustn't\", 'needn', \"needn't\", 'shan', \"shan't\", 'shouldn', \"shouldn't\", 'wasn', \"wasn't\", 'weren', \"weren't\", 'won', \"won't\", 'wouldn', \"wouldn't\"]\n"
          ]
        },
        {
          "output_type": "stream",
          "name": "stderr",
          "text": [
            "[nltk_data] Downloading package stopwords to /root/nltk_data...\n",
            "[nltk_data]   Package stopwords is already up-to-date!\n"
          ]
        }
      ]
    },
    {
      "cell_type": "code",
      "source": [
        "import spacy\n",
        "#using scipy we are removing stopwords\n",
        "nlp = spacy.load(\"en_core_web_sm\")\n",
        "doc = nlp(text)\n",
        "filtered_words = [token.text for token in doc if not token.is_stop]\n",
        "# Join the filtered words to form a clean text\n",
        "clean_text = ' '.join(filtered_words)\n",
        "print(\"Original Text:\", text)\n",
        "print(\"Text after Stopword Removal:\", clean_text)"
      ],
      "metadata": {
        "colab": {
          "base_uri": "https://localhost:8080/"
        },
        "id": "xhbqXZ-O-qGh",
        "outputId": "dd6a4cf8-eb58-4063-ec1e-c04b6c77a7f8"
      },
      "execution_count": null,
      "outputs": [
        {
          "output_type": "stream",
          "name": "stdout",
          "text": [
            "Original Text: Crafting a standout resume can be a daunting task but its essential for showcasing your skills and experience to potential employers Don’t underestimate the power of a wellformatted contentrich CV Its not just a mere piece of paper its your gateway to career opportunities Including relevant achievements such as exceeding sales targets or leading successful projects can greatly enhance your resumeI started my career in 06102020u can jst contact me on 0123456789\n",
            "Text after Stopword Removal: Crafting standout resume daunting task essential showcasing skills experience potential employers underestimate power wellformatted contentrich CV mere piece paper gateway career opportunities Including relevant achievements exceeding sales targets leading successful projects greatly enhance resumeI started career 06102020u jst contact 0123456789\n"
          ]
        }
      ]
    },
    {
      "cell_type": "markdown",
      "source": [
        "**Length of text without stopwords removal**"
      ],
      "metadata": {
        "id": "aOUqt3OX_63p"
      }
    },
    {
      "cell_type": "code",
      "source": [
        "print(len(text))"
      ],
      "metadata": {
        "colab": {
          "base_uri": "https://localhost:8080/"
        },
        "id": "9-iDBzGd-sv2",
        "outputId": "d4de249e-80d3-4795-865d-88874984f522"
      },
      "execution_count": null,
      "outputs": [
        {
          "output_type": "stream",
          "name": "stdout",
          "text": [
            "464\n"
          ]
        }
      ]
    },
    {
      "cell_type": "markdown",
      "source": [
        "**Length of text after Stopwords Removal**"
      ],
      "metadata": {
        "id": "vs4uiEEAAzL9"
      }
    },
    {
      "cell_type": "code",
      "source": [
        "print(len(clean_text))"
      ],
      "metadata": {
        "colab": {
          "base_uri": "https://localhost:8080/"
        },
        "id": "nwaSrCgWA_k9",
        "outputId": "ab0322a6-583e-4e2e-a347-ba7c81bd722d"
      },
      "execution_count": null,
      "outputs": [
        {
          "output_type": "stream",
          "name": "stdout",
          "text": [
            "348\n"
          ]
        }
      ]
    },
    {
      "cell_type": "markdown",
      "source": [
        "**Distribution of POS**"
      ],
      "metadata": {
        "id": "j-LlceThBEdh"
      }
    },
    {
      "cell_type": "code",
      "source": [
        "import nltk\n",
        "nltk.download('averaged_perceptron_tagger')\n",
        "from collections import Counter\n",
        "# To Get the POS tags for the tokens\n",
        "pos_tags = nltk.pos_tag(tokens)\n",
        "\n",
        "# Count the frequency of each POS tag\n",
        "pos_counts = Counter(tag for word, tag in pos_tags)\n",
        "\n",
        "# Plot the distribution of POS tags\n",
        "plt.figure(figsize=(10, 6))\n",
        "plt.bar(pos_counts.keys(), pos_counts.values())\n",
        "plt.xlabel('POS Tags')\n",
        "plt.ylabel('Frequency')\n",
        "plt.title('Distribution of POS Tags in the Text')\n",
        "plt.show()"
      ],
      "metadata": {
        "colab": {
          "base_uri": "https://localhost:8080/",
          "height": 616
        },
        "id": "HjxjcnMfBCH9",
        "outputId": "9773f2b4-b0f2-45da-98ac-1cf6f37d8d05"
      },
      "execution_count": null,
      "outputs": [
        {
          "output_type": "stream",
          "name": "stderr",
          "text": [
            "[nltk_data] Downloading package averaged_perceptron_tagger to\n",
            "[nltk_data]     /root/nltk_data...\n",
            "[nltk_data]   Unzipping taggers/averaged_perceptron_tagger.zip.\n"
          ]
        },
        {
          "output_type": "display_data",
          "data": {
            "text/plain": [
              "<Figure size 1000x600 with 1 Axes>"
            ],
            "image/png": "[encoded data removed]"
          },
          "metadata": {}
        }
      ]
    },
    {
      "cell_type": "markdown",
      "source": [
        "**f.Determing unique lemma in the best**"
      ],
      "metadata": {
        "id": "GxtbegQABQu8"
      }
    },
    {
      "cell_type": "code",
      "source": [
        "from nltk.stem import WordNetLemmatizer\n",
        "nltk.download('punkt')\n",
        "nltk.download('wordnet')\n",
        "\n",
        "words = word_tokenize(text)\n",
        "lemmatizer = WordNetLemmatizer()\n",
        "unique_lemmas = set(lemmatizer.lemmatize(word) for word in words)\n",
        "print(\"Number of unique lemmas:\", len(unique_lemmas))"
      ],
      "metadata": {
        "colab": {
          "base_uri": "https://localhost:8080/"
        },
        "id": "ZwazSxVZBN72",
        "outputId": "016cdb89-4e37-41c1-9c4c-d67102f8fabb"
      },
      "execution_count": null,
      "outputs": [
        {
          "output_type": "stream",
          "name": "stderr",
          "text": [
            "[nltk_data] Downloading package punkt to /root/nltk_data...\n",
            "[nltk_data]   Package punkt is already up-to-date!\n",
            "[nltk_data] Downloading package wordnet to /root/nltk_data...\n"
          ]
        },
        {
          "output_type": "stream",
          "name": "stdout",
          "text": [
            "Number of unique lemmas: 62\n"
          ]
        }
      ]
    },
    {
      "cell_type": "code",
      "source": [
        "from nltk.probability import FreqDist\n",
        "fdist = FreqDist(words)\n",
        "\n",
        "# Get the top 10 most occurring tokens\n",
        "top_tokens = fdist.most_common(10)\n",
        "tokens, frequencies = zip(*top_tokens)\n",
        "\n",
        "# Plot the frequency distribution of words\n",
        "plt.bar(tokens, frequencies)\n",
        "plt.xlabel('Tokens')\n",
        "plt.ylabel('Frequency')\n",
        "plt.title('Top 10 Most Occurring Tokens in the Text')\n",
        "plt.show()"
      ],
      "metadata": {
        "colab": {
          "base_uri": "https://localhost:8080/",
          "height": 472
        },
        "id": "NZNlBfZZBYWg",
        "outputId": "d0d02cb0-cfce-46c1-a1e4-1f5f57796678"
      },
      "execution_count": null,
      "outputs": [
        {
          "output_type": "display_data",
          "data": {
            "text/plain": [
              "<Figure size 640x480 with 1 Axes>"
            ],
            "image/png": "[encoded data removed]"
          },
          "metadata": {}
        }
      ]
    },
    {
      "cell_type": "code",
      "source": [
        "from nltk.util import ngrams\n",
        "# Create bigrams, trigrams, and quadgrams\n",
        "bigrams = list(ngrams(words, 2))\n",
        "trigrams = list(ngrams(words, 3))\n",
        "quadgrams = list(ngrams(words, 4))\n",
        "\n",
        "# Calculate the number of unique bigrams, trigrams, and quadgrams\n",
        "unique_bigrams = len(set(bigrams))\n",
        "unique_trigrams = len(set(trigrams))\n",
        "unique_quadgrams = len(set(quadgrams))\n",
        "\n",
        "# Print the results\n",
        "print(\"Number of unique bigrams:\", unique_bigrams)\n",
        "print(\"Number of unique trigrams:\", unique_trigrams)\n",
        "print(\"Number of unique quadgrams:\", unique_quadgrams)\n"
      ],
      "metadata": {
        "colab": {
          "base_uri": "https://localhost:8080/"
        },
        "id": "4-VYUfhyBcu3",
        "outputId": "ca6c4341-0882-486d-e4d8-b1e0d4572b36"
      },
      "execution_count": null,
      "outputs": [
        {
          "output_type": "stream",
          "name": "stdout",
          "text": [
            "Number of unique bigrams: 73\n",
            "Number of unique trigrams: 72\n",
            "Number of unique quadgrams: 71\n"
          ]
        }
      ]
    },
    {
      "cell_type": "markdown",
      "source": [
        "**Finding and convertion of Dates to dd-mm-yyyy format**"
      ],
      "metadata": {
        "id": "Lgbfj6gKBo7C"
      }
    },
    {
      "cell_type": "code",
      "source": [
        "import re\n",
        "\n",
        "text = \"Your actual text data here\"  # Replace with your actual text\n",
        "date_pattern = r'(\\d{2})-(\\d{2})-(\\d{4})'\n",
        "\n",
        "original_date_match = re.search(date_pattern, text)\n",
        "if original_date_match:\n",
        "    original_date = original_date_match.group(0)\n",
        "    print(\"Original date:\", original_date)\n",
        "else:\n",
        "    print(\"No original date found in the text\")\n",
        "\n",
        "# convert the date format from MM-DD-YYYY to DD-MM-YYYY\n",
        "def convert_date_format(match):\n",
        "    return f\"{match.group(2)}-{match.group(1)}-{match.group(3)}\"\n",
        "\n",
        "modified_text = re.sub(date_pattern, convert_date_format, text)\n",
        "\n",
        "modified_date_match = re.search(date_pattern, modified_text)\n",
        "if modified_date_match:\n",
        "    modified_date = modified_date_match.group(0)\n",
        "    print(\"Modified date:\", modified_date)\n",
        "else:\n",
        "    print(\"No modified date found in the text\")\n",
        "\n"
      ],
      "metadata": {
        "colab": {
          "base_uri": "https://localhost:8080/"
        },
        "id": "AmaenO0AEc7j",
        "outputId": "87511665-35f5-4584-ec1f-728767758ac0"
      },
      "execution_count": null,
      "outputs": [
        {
          "output_type": "stream",
          "name": "stdout",
          "text": [
            "No original date found in the text\n",
            "No modified date found in the text\n"
          ]
        }
      ]
    },
    {
      "cell_type": "markdown",
      "source": [
        "**Plotting the years in the corpus**"
      ],
      "metadata": {
        "id": "HX0napFaGUot"
      }
    },
    {
      "cell_type": "code",
      "source": [
        "year_pattern = r'\\b(19\\d{2}|20\\d{2})\\b'\n",
        "\n",
        "# Find all the years in the text\n",
        "years_matches = re.findall(year_pattern, text)\n",
        "\n",
        "# Count the frequency of each year\n",
        "year_counts = {year: years_matches.count(year) for year in set(years_matches)}\n",
        "years = list(year_counts.keys())\n",
        "frequency = list(year_counts.values())\n",
        "\n",
        "# Plot the distribution of years\n",
        "plt.bar(years, frequency)\n",
        "plt.xlabel('Years')\n",
        "plt.ylabel('Frequency')\n",
        "plt.title('Distribution of Years in the Text')\n",
        "plt.show()\n"
      ],
      "metadata": {
        "colab": {
          "base_uri": "https://localhost:8080/",
          "height": 472
        },
        "id": "Dp5HNsFjGRCr",
        "outputId": "cb9771e8-8560-407a-eddb-deea07a9787a"
      },
      "execution_count": null,
      "outputs": [
        {
          "output_type": "display_data",
          "data": {
            "text/plain": [
              "<Figure size 640x480 with 1 Axes>"
            ],
            "image/png": "[encoded data removed]"
          },
          "metadata": {}
        }
      ]
    },
    {
      "cell_type": "markdown",
      "source": [
        "Checking for the presence of the phone numbers if found in the corpus then checking is it valid number or not. If not then removing the phone no from the corpus"
      ],
      "metadata": {
        "id": "lBR_fb7VGoxR"
      }
    },
    {
      "cell_type": "code",
      "source": [
        "import re\n",
        "phone_number_pattern = r'\\b(\\d{3})-(\\d{3})-(\\d{4})\\b'\n",
        "\n",
        "# to find all phoneno\n",
        "phone_numbers = re.findall(phone_number_pattern, text)\n",
        "# Validate and remove any invalid phone numbers\n",
        "valid_phone_numbers = []\n",
        "for phone_number in phone_numbers:\n",
        "    if int(phone_number[0]) >= 100 and int(phone_number[1]) >= 100 and int(phone_number[2]) >= 1000:\n",
        "        valid_phone_numbers.append('-'.join(phone_number))\n",
        "    else:\n",
        "        text = text.replace('-'.join(phone_number), '')\n",
        "print(\"Valid phone numbers:\", valid_phone_numbers)\n"
      ],
      "metadata": {
        "colab": {
          "base_uri": "https://localhost:8080/"
        },
        "id": "zLsgqefdGcmJ",
        "outputId": "eb3dce2d-4d03-4c20-ff45-af27ad5fad12"
      },
      "execution_count": null,
      "outputs": [
        {
          "output_type": "stream",
          "name": "stdout",
          "text": [
            "Valid phone numbers: []\n"
          ]
        }
      ]
    },
    {
      "cell_type": "code",
      "source": [],
      "metadata": {
        "id": "0HM0QvM3GtCZ"
      },
      "execution_count": null,
      "outputs": []
    }
  ]
}