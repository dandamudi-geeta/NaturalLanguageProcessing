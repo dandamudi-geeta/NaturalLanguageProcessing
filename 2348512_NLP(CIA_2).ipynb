{
  "nbformat": 4,
  "nbformat_minor": 0,
  "metadata": {
    "colab": {
      "provenance": [],
      "authorship_tag": "ABX9TyMkOVzJzw4tXlpaKlLywLj8",
      "include_colab_link": true
    },
    "kernelspec": {
      "name": "python3",
      "display_name": "Python 3"
    },
    "language_info": {
      "name": "python"
    }
  },
  "cells": [
    {
      "cell_type": "markdown",
      "metadata": {
        "id": "view-in-github",
        "colab_type": "text"
      },
      "source": [
        "<a href=\"https://colab.research.google.com/github/dandamudi-geeta/NaturalLanguageProcessing/blob/main/2348512_NLP(CIA_2).ipynb\" target=\"_parent\"><img src=\"https://colab.research.google.com/assets/colab-badge.svg\" alt=\"Open In Colab\"/></a>"
      ]
    },
    {
      "cell_type": "code",
      "source": [
        "# Import necessary libraries\n",
        "import nltk\n",
        "from nltk.tokenize import word_tokenize, sent_tokenize\n",
        "from nltk.corpus import stopwords\n",
        "from nltk.stem import PorterStemmer, SnowballStemmer, WordNetLemmatizer\n",
        "from nltk.probability import FreqDist\n",
        "import string\n",
        "import matplotlib.pyplot as plt\n",
        "import spacy"
      ],
      "metadata": {
        "id": "z686k55WTsVQ"
      },
      "execution_count": 121,
      "outputs": []
    },
    {
      "cell_type": "code",
      "source": [
        "# Sample text\n",
        "corpus = \"\"\"\n",
        "Transformer is an exceptional innovation in the field of Deep Learning, contributed by Ashish Vaswani et al. (2017), Google.\n",
        "The transformer is the most influential Neural Network model that has shown outstanding performance on various NLP tasks including Machine Reading Comprehension, Machine translation and sentence classification.\n",
        "Attention mechanism and parallelization are the prominent features in the transformers. Consequently, it can facilitate long-range dependencies without any gradient vanishing or gradient explosion problems and it overcomes the drawbacks of the existing methods such as RNN and LSTM.\n",
        "The transformer is executed with an encoder-decoder mechanism and the original article of transformers # “Attention All You Need”.\n",
        "\"\"\""
      ],
      "metadata": {
        "id": "qQ5VFkx-TsXk"
      },
      "execution_count": 122,
      "outputs": []
    },
    {
      "cell_type": "markdown",
      "source": [
        "**Word and Sentence Tokenization**"
      ],
      "metadata": {
        "id": "EOXdWC2hUb0H"
      }
    },
    {
      "cell_type": "code",
      "source": [
        "import nltk\n",
        "nltk.download('punkt')"
      ],
      "metadata": {
        "colab": {
          "base_uri": "https://localhost:8080/"
        },
        "id": "hRjUWGFBVFhN",
        "outputId": "32803297-2cbe-45d6-c673-9efc88e3d026"
      },
      "execution_count": 123,
      "outputs": [
        {
          "output_type": "stream",
          "name": "stderr",
          "text": [
            "[nltk_data] Downloading package punkt to /root/nltk_data...\n",
            "[nltk_data]   Package punkt is already up-to-date!\n"
          ]
        },
        {
          "output_type": "execute_result",
          "data": {
            "text/plain": [
              "True"
            ]
          },
          "metadata": {},
          "execution_count": 123
        }
      ]
    },
    {
      "cell_type": "code",
      "source": [
        "words= word_tokenize(corpus)"
      ],
      "metadata": {
        "id": "9yCl22hbTse8"
      },
      "execution_count": 124,
      "outputs": []
    },
    {
      "cell_type": "code",
      "source": [
        "print(words)"
      ],
      "metadata": {
        "colab": {
          "base_uri": "https://localhost:8080/"
        },
        "id": "vzcbQGFLWOyX",
        "outputId": "3286f5d8-5072-4c15-de3d-efe9955aa951"
      },
      "execution_count": 125,
      "outputs": [
        {
          "output_type": "stream",
          "name": "stdout",
          "text": [
            "['Transformer', 'is', 'an', 'exceptional', 'innovation', 'in', 'the', 'field', 'of', 'Deep', 'Learning', ',', 'contributed', 'by', 'Ashish', 'Vaswani', 'et', 'al', '.', '(', '2017', ')', ',', 'Google', '.', 'The', 'transformer', 'is', 'the', 'most', 'influential', 'Neural', 'Network', 'model', 'that', 'has', 'shown', 'outstanding', 'performance', 'on', 'various', 'NLP', 'tasks', 'including', 'Machine', 'Reading', 'Comprehension', ',', 'Machine', 'translation', 'and', 'sentence', 'classification', '.', 'Attention', 'mechanism', 'and', 'parallelization', 'are', 'the', 'prominent', 'features', 'in', 'the', 'transformers', '.', 'Consequently', ',', 'it', 'can', 'facilitate', 'long-range', 'dependencies', 'without', 'any', 'gradient', 'vanishing', 'or', 'gradient', 'explosion', 'problems', 'and', 'it', 'overcomes', 'the', 'drawbacks', 'of', 'the', 'existing', 'methods', 'such', 'as', 'RNN', 'and', 'LSTM', '.', 'The', 'transformer', 'is', 'executed', 'with', 'an', 'encoder-decoder', 'mechanism', 'and', 'the', 'original', 'article', 'of', 'transformers', '#', '“', 'Attention', 'All', 'You', 'Need', '”', '.']\n"
          ]
        }
      ]
    },
    {
      "cell_type": "code",
      "source": [
        "sentence= sent_tokenize(corpus)"
      ],
      "metadata": {
        "id": "463GcM8bTsg3"
      },
      "execution_count": 126,
      "outputs": []
    },
    {
      "cell_type": "code",
      "source": [
        "print(sentence)"
      ],
      "metadata": {
        "colab": {
          "base_uri": "https://localhost:8080/"
        },
        "id": "3G30EBtIWQNR",
        "outputId": "f2c91b14-cc08-46bf-ce69-9dd5f6afad99"
      },
      "execution_count": 127,
      "outputs": [
        {
          "output_type": "stream",
          "name": "stdout",
          "text": [
            "['\\nTransformer is an exceptional innovation in the field of Deep Learning, contributed by Ashish Vaswani et al.', '(2017), Google.', 'The transformer is the most influential Neural Network model that has shown outstanding performance on various NLP tasks including Machine Reading Comprehension, Machine translation and sentence classification.', 'Attention mechanism and parallelization are the prominent features in the transformers.', 'Consequently, it can facilitate long-range dependencies without any gradient vanishing or gradient explosion problems and it overcomes the drawbacks of the existing methods such as RNN and LSTM.', 'The transformer is executed with an encoder-decoder mechanism and the original article of transformers # “Attention All You Need”.']\n"
          ]
        }
      ]
    },
    {
      "cell_type": "markdown",
      "source": [
        "**Stopwords removal**"
      ],
      "metadata": {
        "id": "g9tazrnhVdE5"
      }
    },
    {
      "cell_type": "code",
      "source": [
        "nltk.download('stopwords')"
      ],
      "metadata": {
        "colab": {
          "base_uri": "https://localhost:8080/"
        },
        "id": "vn1gdaMhV6LG",
        "outputId": "d3605da7-e7b5-41d0-e0f8-2cb318e1a366"
      },
      "execution_count": 128,
      "outputs": [
        {
          "output_type": "stream",
          "name": "stderr",
          "text": [
            "[nltk_data] Downloading package stopwords to /root/nltk_data...\n",
            "[nltk_data]   Package stopwords is already up-to-date!\n"
          ]
        },
        {
          "output_type": "execute_result",
          "data": {
            "text/plain": [
              "True"
            ]
          },
          "metadata": {},
          "execution_count": 128
        }
      ]
    },
    {
      "cell_type": "code",
      "source": [
        "stop_words=set(stopwords.words('english'))"
      ],
      "metadata": {
        "id": "dQdIwEX1TskP"
      },
      "execution_count": 129,
      "outputs": []
    },
    {
      "cell_type": "code",
      "source": [
        "filtered_words = [word for word in words if word.lower() not in stop_words]"
      ],
      "metadata": {
        "id": "nGRud-6dViSi"
      },
      "execution_count": 130,
      "outputs": []
    },
    {
      "cell_type": "code",
      "source": [
        "print(stop_words)"
      ],
      "metadata": {
        "colab": {
          "base_uri": "https://localhost:8080/"
        },
        "id": "PbKpA2IOWUb8",
        "outputId": "4f3ce8d5-96b1-40d7-8a8f-495b738f58ab"
      },
      "execution_count": 131,
      "outputs": [
        {
          "output_type": "stream",
          "name": "stdout",
          "text": [
            "{'o', 'wasn', 'its', 'am', 'few', 'not', 'himself', 'aren', 'to', 'won', \"mightn't\", 'very', 'who', 'on', 'i', 'out', 'any', 'hadn', 'll', \"mustn't\", 'm', 'ourselves', 'too', 't', 'about', 'from', 'doesn', 'other', \"aren't\", 'between', 'ma', 'at', 'only', 'he', 'same', 'but', 'hasn', 'ours', 'an', 'if', 'mightn', 'do', 'through', 'by', 'when', 'had', 'isn', 'with', 'she', 'down', 'once', 'each', 'myself', \"you've\", 'it', 'shan', \"she's\", 'where', \"you're\", 'what', 'you', 'under', \"shouldn't\", 'd', \"wouldn't\", 'itself', \"isn't\", 'mustn', 'the', \"haven't\", 'over', 'above', 'did', 'all', 'him', \"you'd\", \"it's\", 'your', 'no', 'we', \"hadn't\", 'a', 'has', \"you'll\", 'whom', 'are', 'this', 'hers', 'for', \"couldn't\", \"weren't\", 'don', 'most', 'while', 'nor', 'there', 'why', 'her', 've', 'that', 'having', 'of', 'my', 'have', 'such', 'will', 'here', 'their', 'needn', \"wasn't\", 'should', 'up', 'didn', 'them', 's', 'against', 'theirs', 'then', 'yourselves', 'some', \"hasn't\", 'was', 'after', 'as', 'than', 'these', 'couldn', 're', 'his', \"don't\", 'were', 'weren', \"should've\", 'below', 'can', 'herself', 'yours', 'during', 'because', 'own', 'now', 'which', \"that'll\", 'so', 'been', 'shouldn', 'doing', 'until', 'more', 'further', \"doesn't\", 'be', 'being', 'just', 'themselves', 'again', 'those', 'how', 'both', 'wouldn', 'me', \"shan't\", 'off', 'before', \"won't\", 'in', \"didn't\", 'they', 'ain', 'is', 'haven', 'our', 'and', 'or', 'y', 'yourself', 'does', 'into', \"needn't\"}\n"
          ]
        }
      ]
    },
    {
      "cell_type": "markdown",
      "source": [
        "**Punctuation removal**"
      ],
      "metadata": {
        "id": "JDsWAfE0WBjj"
      }
    },
    {
      "cell_type": "code",
      "source": [
        "# Punctuation removal\n",
        "no_punct = \"\".join([word for word in filtered_words if word not in string.punctuation])\n"
      ],
      "metadata": {
        "id": "y_6JokVLV-ID"
      },
      "execution_count": 132,
      "outputs": []
    },
    {
      "cell_type": "code",
      "source": [
        "print(no_punct)"
      ],
      "metadata": {
        "colab": {
          "base_uri": "https://localhost:8080/"
        },
        "id": "pfkwzjnZWEhh",
        "outputId": "6021e15b-ea3a-4129-d3dd-a59fd436d5ae"
      },
      "execution_count": 133,
      "outputs": [
        {
          "output_type": "stream",
          "name": "stdout",
          "text": [
            "TransformerexceptionalinnovationfieldDeepLearningcontributedAshishVaswanietal2017GoogletransformerinfluentialNeuralNetworkmodelshownoutstandingperformancevariousNLPtasksincludingMachineReadingComprehensionMachinetranslationsentenceclassificationAttentionmechanismparallelizationprominentfeaturestransformersConsequentlyfacilitatelong-rangedependencieswithoutgradientvanishinggradientexplosionproblemsovercomesdrawbacksexistingmethodsRNNLSTMtransformerexecutedencoder-decodermechanismoriginalarticletransformers“AttentionNeed”\n"
          ]
        }
      ]
    },
    {
      "cell_type": "markdown",
      "source": [
        "**d. Find the Frequency Distribution after (Steps B and C) and visualize the same.**"
      ],
      "metadata": {
        "id": "FE6mG6PpWhc9"
      }
    },
    {
      "cell_type": "code",
      "source": [
        "# Frequency Distribution and Visualization\n",
        "fdist = FreqDist(filtered_words)\n",
        "fdist.plot(30, cumulative=False)\n",
        "plt.show()\n"
      ],
      "metadata": {
        "colab": {
          "base_uri": "https://localhost:8080/",
          "height": 525
        },
        "id": "oPQKwMOpWbGm",
        "outputId": "51dfc25d-c2a1-40f1-ab5e-466445d4ca23"
      },
      "execution_count": 134,
      "outputs": [
        {
          "output_type": "display_data",
          "data": {
            "text/plain": [
              "<Figure size 640x480 with 1 Axes>"
            ],
            "image/png": "[encoded data removed]"
          },
          "metadata": {}
        }
      ]
    },
    {
      "cell_type": "code",
      "source": [
        "print(fdist)"
      ],
      "metadata": {
        "colab": {
          "base_uri": "https://localhost:8080/"
        },
        "id": "OBUnSzGXW1UR",
        "outputId": "651be721-0b3f-42d8-c943-f6b1608737dd"
      },
      "execution_count": 135,
      "outputs": [
        {
          "output_type": "stream",
          "name": "stdout",
          "text": [
            "<FreqDist with 64 samples and 78 outcomes>\n"
          ]
        }
      ]
    },
    {
      "cell_type": "markdown",
      "source": [
        "**e. Stemming (use any 2 stemmers) and lemmatization**"
      ],
      "metadata": {
        "id": "4HbKjs_oYhJq"
      }
    },
    {
      "cell_type": "code",
      "source": [
        "# Stemming and Lemmatization\n",
        "#PorterStemmer\n",
        "ps = PorterStemmer()\n",
        "stemmed_words_porter = [ps.stem(word) for word in filtered_words]"
      ],
      "metadata": {
        "id": "bmfZkA5saTxD"
      },
      "execution_count": 136,
      "outputs": []
    },
    {
      "cell_type": "code",
      "source": [
        "print(stemmed_words_porter)"
      ],
      "metadata": {
        "colab": {
          "base_uri": "https://localhost:8080/"
        },
        "id": "ARJjiH01bTKF",
        "outputId": "77e97916-5bae-4932-b09f-98ffa726704d"
      },
      "execution_count": 137,
      "outputs": [
        {
          "output_type": "stream",
          "name": "stdout",
          "text": [
            "['transform', 'except', 'innov', 'field', 'deep', 'learn', ',', 'contribut', 'ashish', 'vaswani', 'et', 'al', '.', '(', '2017', ')', ',', 'googl', '.', 'transform', 'influenti', 'neural', 'network', 'model', 'shown', 'outstand', 'perform', 'variou', 'nlp', 'task', 'includ', 'machin', 'read', 'comprehens', ',', 'machin', 'translat', 'sentenc', 'classif', '.', 'attent', 'mechan', 'parallel', 'promin', 'featur', 'transform', '.', 'consequ', ',', 'facilit', 'long-rang', 'depend', 'without', 'gradient', 'vanish', 'gradient', 'explos', 'problem', 'overcom', 'drawback', 'exist', 'method', 'rnn', 'lstm', '.', 'transform', 'execut', 'encoder-decod', 'mechan', 'origin', 'articl', 'transform', '#', '“', 'attent', 'need', '”', '.']\n"
          ]
        }
      ]
    },
    {
      "cell_type": "code",
      "source": [
        "ss = SnowballStemmer(language='english')\n",
        "stemmed_words_snowball = [ss.stem(word) for word in filtered_words]"
      ],
      "metadata": {
        "id": "8Q27XQRwbAdj"
      },
      "execution_count": 138,
      "outputs": []
    },
    {
      "cell_type": "code",
      "source": [
        "print(stemmed_words_snowball)"
      ],
      "metadata": {
        "colab": {
          "base_uri": "https://localhost:8080/"
        },
        "id": "4kvQwjUBbSSH",
        "outputId": "b1d24b5f-6a60-4dbf-ed73-99bfa524d46f"
      },
      "execution_count": 139,
      "outputs": [
        {
          "output_type": "stream",
          "name": "stdout",
          "text": [
            "['transform', 'except', 'innov', 'field', 'deep', 'learn', ',', 'contribut', 'ashish', 'vaswani', 'et', 'al', '.', '(', '2017', ')', ',', 'googl', '.', 'transform', 'influenti', 'neural', 'network', 'model', 'shown', 'outstand', 'perform', 'various', 'nlp', 'task', 'includ', 'machin', 'read', 'comprehens', ',', 'machin', 'translat', 'sentenc', 'classif', '.', 'attent', 'mechan', 'parallel', 'promin', 'featur', 'transform', '.', 'consequ', ',', 'facilit', 'long-rang', 'depend', 'without', 'gradient', 'vanish', 'gradient', 'explos', 'problem', 'overcom', 'drawback', 'exist', 'method', 'rnn', 'lstm', '.', 'transform', 'execut', 'encoder-decod', 'mechan', 'origin', 'articl', 'transform', '#', '“', 'attent', 'need', '”', '.']\n"
          ]
        }
      ]
    },
    {
      "cell_type": "code",
      "source": [
        "nltk.download('wordnet')"
      ],
      "metadata": {
        "colab": {
          "base_uri": "https://localhost:8080/"
        },
        "id": "t-HOSGXgbKcN",
        "outputId": "9afff410-feb0-4f94-9937-fcf048dfa382"
      },
      "execution_count": 140,
      "outputs": [
        {
          "output_type": "stream",
          "name": "stderr",
          "text": [
            "[nltk_data] Downloading package wordnet to /root/nltk_data...\n",
            "[nltk_data]   Package wordnet is already up-to-date!\n"
          ]
        },
        {
          "output_type": "execute_result",
          "data": {
            "text/plain": [
              "True"
            ]
          },
          "metadata": {},
          "execution_count": 140
        }
      ]
    },
    {
      "cell_type": "code",
      "source": [
        "lemmatizer = WordNetLemmatizer()\n",
        "lemmatized_words = [lemmatizer.lemmatize(word) for word in filtered_words]"
      ],
      "metadata": {
        "id": "9zl0UeoAbAiz"
      },
      "execution_count": 141,
      "outputs": []
    },
    {
      "cell_type": "code",
      "source": [
        "print(lemmatized_words)"
      ],
      "metadata": {
        "colab": {
          "base_uri": "https://localhost:8080/"
        },
        "id": "WsPzVLPhbewP",
        "outputId": "719f7583-4d6b-4592-a472-6d1946e471c6"
      },
      "execution_count": 142,
      "outputs": [
        {
          "output_type": "stream",
          "name": "stdout",
          "text": [
            "['Transformer', 'exceptional', 'innovation', 'field', 'Deep', 'Learning', ',', 'contributed', 'Ashish', 'Vaswani', 'et', 'al', '.', '(', '2017', ')', ',', 'Google', '.', 'transformer', 'influential', 'Neural', 'Network', 'model', 'shown', 'outstanding', 'performance', 'various', 'NLP', 'task', 'including', 'Machine', 'Reading', 'Comprehension', ',', 'Machine', 'translation', 'sentence', 'classification', '.', 'Attention', 'mechanism', 'parallelization', 'prominent', 'feature', 'transformer', '.', 'Consequently', ',', 'facilitate', 'long-range', 'dependency', 'without', 'gradient', 'vanishing', 'gradient', 'explosion', 'problem', 'overcomes', 'drawback', 'existing', 'method', 'RNN', 'LSTM', '.', 'transformer', 'executed', 'encoder-decoder', 'mechanism', 'original', 'article', 'transformer', '#', '“', 'Attention', 'Need', '”', '.']\n"
          ]
        }
      ]
    },
    {
      "cell_type": "markdown",
      "source": [
        "**f. Tag the Words using PoS**"
      ],
      "metadata": {
        "id": "qVvohzTGYhRl"
      }
    },
    {
      "cell_type": "code",
      "source": [
        "# Tag the Words using PoS\n",
        "nlp = spacy.load('en_core_web_sm')\n",
        "doc = nlp(corpus)\n",
        "pos_tags = [(token.text, token.pos_) for token in doc]"
      ],
      "metadata": {
        "id": "HYtcTWaaXbQN"
      },
      "execution_count": 143,
      "outputs": []
    },
    {
      "cell_type": "code",
      "source": [
        "print(pos_tags)"
      ],
      "metadata": {
        "colab": {
          "base_uri": "https://localhost:8080/"
        },
        "id": "ab7jGQg6bwDB",
        "outputId": "b40625a5-8042-496e-afcf-1ba233d392dc"
      },
      "execution_count": 144,
      "outputs": [
        {
          "output_type": "stream",
          "name": "stdout",
          "text": [
            "[('\\n', 'SPACE'), ('Transformer', 'PROPN'), ('is', 'AUX'), ('an', 'DET'), ('exceptional', 'ADJ'), ('innovation', 'NOUN'), ('in', 'ADP'), ('the', 'DET'), ('field', 'NOUN'), ('of', 'ADP'), ('Deep', 'PROPN'), ('Learning', 'PROPN'), (',', 'PUNCT'), ('contributed', 'VERB'), ('by', 'ADP'), ('Ashish', 'PROPN'), ('Vaswani', 'PROPN'), ('et', 'PROPN'), ('al', 'PROPN'), ('.', 'PUNCT'), ('(', 'PUNCT'), ('2017', 'NUM'), (')', 'PUNCT'), (',', 'PUNCT'), ('Google', 'PROPN'), ('.', 'PUNCT'), ('\\n', 'SPACE'), ('The', 'DET'), ('transformer', 'NOUN'), ('is', 'AUX'), ('the', 'DET'), ('most', 'ADV'), ('influential', 'ADJ'), ('Neural', 'PROPN'), ('Network', 'PROPN'), ('model', 'NOUN'), ('that', 'PRON'), ('has', 'AUX'), ('shown', 'VERB'), ('outstanding', 'ADJ'), ('performance', 'NOUN'), ('on', 'ADP'), ('various', 'ADJ'), ('NLP', 'PROPN'), ('tasks', 'NOUN'), ('including', 'VERB'), ('Machine', 'PROPN'), ('Reading', 'PROPN'), ('Comprehension', 'PROPN'), (',', 'PUNCT'), ('Machine', 'NOUN'), ('translation', 'NOUN'), ('and', 'CCONJ'), ('sentence', 'NOUN'), ('classification', 'NOUN'), ('.', 'PUNCT'), ('\\n', 'SPACE'), ('Attention', 'PROPN'), ('mechanism', 'NOUN'), ('and', 'CCONJ'), ('parallelization', 'NOUN'), ('are', 'AUX'), ('the', 'DET'), ('prominent', 'ADJ'), ('features', 'NOUN'), ('in', 'ADP'), ('the', 'DET'), ('transformers', 'NOUN'), ('.', 'PUNCT'), ('Consequently', 'ADV'), (',', 'PUNCT'), ('it', 'PRON'), ('can', 'AUX'), ('facilitate', 'VERB'), ('long', 'ADJ'), ('-', 'PUNCT'), ('range', 'NOUN'), ('dependencies', 'NOUN'), ('without', 'ADP'), ('any', 'DET'), ('gradient', 'ADJ'), ('vanishing', 'VERB'), ('or', 'CCONJ'), ('gradient', 'ADJ'), ('explosion', 'NOUN'), ('problems', 'NOUN'), ('and', 'CCONJ'), ('it', 'PRON'), ('overcomes', 'VERB'), ('the', 'DET'), ('drawbacks', 'NOUN'), ('of', 'ADP'), ('the', 'DET'), ('existing', 'VERB'), ('methods', 'NOUN'), ('such', 'ADJ'), ('as', 'ADP'), ('RNN', 'PROPN'), ('and', 'CCONJ'), ('LSTM', 'PROPN'), ('.', 'PUNCT'), ('\\n', 'SPACE'), ('The', 'DET'), ('transformer', 'NOUN'), ('is', 'AUX'), ('executed', 'VERB'), ('with', 'ADP'), ('an', 'DET'), ('encoder', 'NOUN'), ('-', 'PUNCT'), ('decoder', 'NOUN'), ('mechanism', 'NOUN'), ('and', 'CCONJ'), ('the', 'DET'), ('original', 'ADJ'), ('article', 'NOUN'), ('of', 'ADP'), ('transformers', 'NOUN'), ('#', 'NOUN'), ('“', 'PUNCT'), ('Attention', 'NOUN'), ('All', 'PRON'), ('You', 'PRON'), ('Need', 'VERB'), ('”', 'PUNCT'), ('.', 'PUNCT'), ('\\n', 'SPACE')]\n"
          ]
        }
      ]
    },
    {
      "cell_type": "code",
      "source": [
        "# Implement the Named Entity Recognition (NER)\n",
        "entities = [(entity.text, entity.label_) for entity in doc.ents]\n"
      ],
      "metadata": {
        "id": "GSU4USjRboaU"
      },
      "execution_count": 145,
      "outputs": []
    },
    {
      "cell_type": "code",
      "source": [
        "print(entities)"
      ],
      "metadata": {
        "colab": {
          "base_uri": "https://localhost:8080/"
        },
        "id": "mVpnykZtbqrL",
        "outputId": "f47bf2d9-44bd-46aa-f0d5-6470b141e07d"
      },
      "execution_count": 146,
      "outputs": [
        {
          "output_type": "stream",
          "name": "stdout",
          "text": [
            "[('Transformer', 'ORG'), ('Deep Learning', 'ORG'), ('Ashish Vaswani', 'PERSON'), ('2017', 'DATE'), ('Google', 'ORG'), ('Neural Network', 'ORG'), ('NLP', 'ORG'), ('Machine Reading Comprehension', 'ORG'), ('RNN', 'ORG')]\n"
          ]
        }
      ]
    },
    {
      "cell_type": "markdown",
      "source": [
        "**2. Implement the Word2Vec on “Mickey Mouse, a cheerful and optimistic mouse clad in red shorts and yellow shoes, is the iconic mascot of The Walt Disney Company. Debuting in 1928,this spunky character has charmed audiences for generations with his adventures and can-do attitude**"
      ],
      "metadata": {
        "id": "a-PKOi2XbzZU"
      }
    },
    {
      "cell_type": "code",
      "source": [
        "from gensim.models import Word2Vec\n",
        "from nltk.tokenize import word_tokenize"
      ],
      "metadata": {
        "id": "OIf5tUYfbyGf"
      },
      "execution_count": 147,
      "outputs": []
    },
    {
      "cell_type": "code",
      "source": [
        " #Sample text\n",
        "text = \"\"\"\n",
        "Mickey Mouse, a cheerful and optimistic mouse clad in red shorts and yellow shoes, is the iconic mascot of The Walt Disney Company. Debuting in 1928, this spunky character has charmed audiences for generations with his adventures and can-do attitude.\n",
        "\"\"\""
      ],
      "metadata": {
        "id": "nvIOViEAcCXk"
      },
      "execution_count": 148,
      "outputs": []
    },
    {
      "cell_type": "code",
      "source": [
        "# Tokenize the text\n",
        "tokenized_text = [word_tokenize(sentence) for sentence in text.split('. ')]"
      ],
      "metadata": {
        "id": "vUzKsQ9ccand"
      },
      "execution_count": 149,
      "outputs": []
    },
    {
      "cell_type": "code",
      "source": [
        "print(tokenized_text)"
      ],
      "metadata": {
        "colab": {
          "base_uri": "https://localhost:8080/"
        },
        "id": "EC_u04SqcWAH",
        "outputId": "a67d94c0-750f-4259-81c7-f3492b9d4b76"
      },
      "execution_count": 150,
      "outputs": [
        {
          "output_type": "stream",
          "name": "stdout",
          "text": [
            "[['Mickey', 'Mouse', ',', 'a', 'cheerful', 'and', 'optimistic', 'mouse', 'clad', 'in', 'red', 'shorts', 'and', 'yellow', 'shoes', ',', 'is', 'the', 'iconic', 'mascot', 'of', 'The', 'Walt', 'Disney', 'Company'], ['Debuting', 'in', '1928', ',', 'this', 'spunky', 'character', 'has', 'charmed', 'audiences', 'for', 'generations', 'with', 'his', 'adventures', 'and', 'can-do', 'attitude', '.']]\n"
          ]
        }
      ]
    },
    {
      "cell_type": "code",
      "source": [
        "# Train the Word2Vec model\n",
        "model = Word2Vec(tokenized_text, vector_size=100, window=5, min_count=1, workers=4)"
      ],
      "metadata": {
        "id": "J1N8YGANchoU"
      },
      "execution_count": 151,
      "outputs": []
    },
    {
      "cell_type": "code",
      "source": [
        "print(model)"
      ],
      "metadata": {
        "colab": {
          "base_uri": "https://localhost:8080/"
        },
        "id": "YW9bS43NcjyT",
        "outputId": "ca6d1d41-c906-429c-830b-7303d9b3b7ba"
      },
      "execution_count": 152,
      "outputs": [
        {
          "output_type": "stream",
          "name": "stdout",
          "text": [
            "Word2Vec<vocab=39, vector_size=100, alpha=0.025>\n"
          ]
        }
      ]
    },
    {
      "cell_type": "code",
      "source": [
        "# Test the trained model\n",
        "similar_words = model.wv.most_similar('Mouse')"
      ],
      "metadata": {
        "id": "0pI-afB2cl4e"
      },
      "execution_count": 153,
      "outputs": []
    },
    {
      "cell_type": "code",
      "source": [
        "print(similar_words)"
      ],
      "metadata": {
        "colab": {
          "base_uri": "https://localhost:8080/"
        },
        "id": "Nd2jvvnKcrUX",
        "outputId": "711ccca6-917e-4bf1-c80d-c5e2c3ca51e2"
      },
      "execution_count": 154,
      "outputs": [
        {
          "output_type": "stream",
          "name": "stdout",
          "text": [
            "[('optimistic', 0.246681347489357), ('Walt', 0.1334548145532608), ('1928', 0.12271586060523987), ('is', 0.11928389966487885), ('mascot', 0.11922944337129593), ('mouse', 0.11651086807250977), ('character', 0.11094119399785995), ('Company', 0.10689602047204971), ('shorts', 0.09614580124616623), ('his', 0.08784715831279755)]\n"
          ]
        }
      ]
    },
    {
      "cell_type": "code",
      "source": [
        "from gensim.models import Word2Vec\n",
        "from gensim.models import KeyedVectors\n",
        "from sklearn.decomposition import PCA\n",
        "import matplotlib.pyplot as plt\n",
        "from nltk.tokenize import word_tokenize"
      ],
      "metadata": {
        "id": "1f8UQMn0csQO"
      },
      "execution_count": 155,
      "outputs": []
    },
    {
      "cell_type": "markdown",
      "source": [
        "**a.Visualize the vectors in a plane.**"
      ],
      "metadata": {
        "id": "w7kOkXbWdUFR"
      }
    },
    {
      "cell_type": "code",
      "source": [
        "# Get the vectors\n",
        "word_vectors = model.wv"
      ],
      "metadata": {
        "id": "T8n3a54jc7Uq"
      },
      "execution_count": 156,
      "outputs": []
    },
    {
      "cell_type": "code",
      "source": [
        "print(word_vectors)"
      ],
      "metadata": {
        "colab": {
          "base_uri": "https://localhost:8080/"
        },
        "id": "ojq9SdpBdNR6",
        "outputId": "2db7a68b-1bd7-43b3-8b9e-14001c707812"
      },
      "execution_count": 157,
      "outputs": [
        {
          "output_type": "stream",
          "name": "stdout",
          "text": [
            "KeyedVectors<vector_size=100, 39 keys>\n"
          ]
        }
      ]
    },
    {
      "cell_type": "code",
      "source": [
        "# Visualize the vectors in a plane using PCA\n",
        "words = list(word_vectors.index_to_key)\n",
        "vectors = [word_vectors[word] for word in words]"
      ],
      "metadata": {
        "id": "H3KJpUa2dQ9v"
      },
      "execution_count": 158,
      "outputs": []
    },
    {
      "cell_type": "code",
      "source": [
        "print(vectors)"
      ],
      "metadata": {
        "colab": {
          "base_uri": "https://localhost:8080/"
        },
        "id": "RHYHL7CudlEc",
        "outputId": "c82659bd-d016-42bc-cc5c-0f80e93eae15"
      },
      "execution_count": 159,
      "outputs": [
        {
          "output_type": "stream",
          "name": "stdout",
          "text": [
            "[array([-5.4169394e-04,  2.3942839e-04,  5.0938642e-03,  9.0143979e-03,\n",
            "       -9.3150316e-03, -7.1285996e-03,  6.4593246e-03,  8.9678392e-03,\n",
            "       -5.0234101e-03, -3.7711840e-03,  7.3786639e-03, -1.5369267e-03,\n",
            "       -4.5367125e-03,  6.5640365e-03, -4.8591606e-03, -1.8064706e-03,\n",
            "        2.8995187e-03,  9.9099579e-04, -8.2874764e-03, -9.4650397e-03,\n",
            "        7.3193191e-03,  5.0775460e-03,  6.7654401e-03,  7.7709218e-04,\n",
            "        6.3666189e-03, -3.4009176e-03, -9.6623256e-04,  5.7673282e-03,\n",
            "       -7.5196228e-03, -3.9324122e-03, -7.4930014e-03, -9.1611873e-04,\n",
            "        9.5520690e-03, -7.3327739e-03, -2.3330012e-03, -1.9411655e-03,\n",
            "        8.0795689e-03, -5.9311478e-03,  4.7347483e-05, -4.7574416e-03,\n",
            "       -9.6161561e-03,  5.0020460e-03, -8.7502524e-03, -4.3964703e-03,\n",
            "       -3.4396497e-05, -3.0106324e-04, -7.6749148e-03,  9.6155899e-03,\n",
            "        4.9927514e-03,  9.2350468e-03, -8.1605203e-03,  4.4975560e-03,\n",
            "       -4.1517857e-03,  8.3122548e-04,  8.5017495e-03, -4.4602198e-03,\n",
            "        4.5281909e-03, -6.7853052e-03, -3.5480501e-03,  9.4189569e-03,\n",
            "       -1.5713592e-03,  3.1786048e-04, -4.1295998e-03, -7.6686842e-03,\n",
            "       -1.5078516e-03,  2.4678288e-03, -8.9685235e-04,  5.5289613e-03,\n",
            "       -2.7401312e-03,  2.2677772e-03,  5.4559982e-03,  8.3456552e-03,\n",
            "       -1.4571197e-03, -9.2101125e-03,  4.3831519e-03,  5.7165272e-04,\n",
            "        7.4382084e-03, -8.0321584e-04, -2.6370778e-03, -8.7541584e-03,\n",
            "       -8.5561693e-04,  2.8163213e-03,  5.4041483e-03,  7.0691616e-03,\n",
            "       -5.7036066e-03,  1.8600818e-03,  6.0984916e-03, -4.7916193e-03,\n",
            "       -3.0985419e-03,  6.7963926e-03,  1.6420056e-03,  2.0126574e-04,\n",
            "        3.4722730e-03,  2.1554339e-04,  9.6200528e-03,  5.0493148e-03,\n",
            "       -8.9111887e-03, -7.0555462e-03,  8.9880370e-04,  6.4053647e-03],\n",
            "      dtype=float32), array([-8.6179255e-03,  3.6614439e-03,  5.1840283e-03,  5.7500452e-03,\n",
            "        7.4552135e-03, -6.1818613e-03,  1.1122469e-03,  6.0573886e-03,\n",
            "       -2.8471025e-03, -6.1846250e-03, -4.1014273e-04, -8.3765201e-03,\n",
            "       -5.5981660e-03,  7.1154824e-03,  3.3476092e-03,  7.2289440e-03,\n",
            "        6.8171187e-03,  7.5280704e-03, -3.7890349e-03, -5.7692197e-04,\n",
            "        2.3504805e-03, -4.5190072e-03,  8.3873589e-03, -9.8511996e-03,\n",
            "        6.7733009e-03,  2.9109232e-03, -4.9508312e-03,  4.4029616e-03,\n",
            "       -1.7374221e-03,  6.7081819e-03,  9.9855512e-03, -4.3558665e-03,\n",
            "       -5.8819237e-04, -5.7061096e-03,  3.8483345e-03,  2.7826105e-03,\n",
            "        6.9022952e-03,  6.0967929e-03,  9.5427847e-03,  9.2701828e-03,\n",
            "        7.8865401e-03, -6.9975136e-03, -9.1482736e-03, -3.6062568e-04,\n",
            "       -3.1004280e-03,  7.8876885e-03,  5.9325304e-03, -1.5447503e-03,\n",
            "        1.5215403e-03,  1.7951446e-03,  7.8140711e-03, -9.5108086e-03,\n",
            "       -2.1445670e-04,  3.4798649e-03, -9.3415636e-04,  8.3852429e-03,\n",
            "        9.0206824e-03,  6.5384717e-03, -7.0803333e-04,  7.7282735e-03,\n",
            "       -8.5283397e-03,  3.2049417e-03, -4.6232706e-03, -5.0788820e-03,\n",
            "        3.5819141e-03,  5.3739371e-03,  7.7599362e-03, -5.7696118e-03,\n",
            "        7.4281539e-03,  6.6318722e-03, -3.7061106e-03, -8.7444754e-03,\n",
            "        5.4448359e-03,  6.5043774e-03, -7.7350426e-04, -6.7137387e-03,\n",
            "       -7.0919381e-03, -2.4855845e-03,  5.1409430e-03, -3.6682612e-03,\n",
            "       -9.3703428e-03,  3.8207078e-03,  4.8800902e-03, -6.4092265e-03,\n",
            "        1.2096566e-03, -2.0780840e-03,  2.7577609e-05, -9.8797185e-03,\n",
            "        2.7036080e-03, -4.7452888e-03,  1.0934286e-03, -1.5719509e-03,\n",
            "        2.1995448e-03, -7.8807753e-03, -2.7058248e-03,  2.6554654e-03,\n",
            "        5.3476784e-03, -2.4017761e-03, -9.5064566e-03,  4.5092688e-03],\n",
            "      dtype=float32), array([ 9.5170930e-05,  3.0778823e-03, -6.8143713e-03, -1.3742235e-03,\n",
            "        7.6650474e-03,  7.3416247e-03, -3.6715756e-03,  2.6479589e-03,\n",
            "       -8.3191423e-03,  6.2004966e-03, -4.6366323e-03, -3.1660190e-03,\n",
            "        9.3081649e-03,  8.7553135e-04,  7.4895443e-03, -6.0715387e-03,\n",
            "        5.1663774e-03,  9.9224253e-03, -8.4584020e-03, -5.1422669e-03,\n",
            "       -7.0633222e-03, -4.8612063e-03, -3.7754413e-03, -8.5347462e-03,\n",
            "        7.9577360e-03, -4.8429728e-03,  8.4184231e-03,  5.2622356e-03,\n",
            "       -6.5500424e-03,  3.9593554e-03,  5.4749311e-03, -7.4275071e-03,\n",
            "       -7.4009364e-03, -2.4807395e-03, -8.6275470e-03, -1.5812567e-03,\n",
            "       -4.0127666e-04,  3.2993027e-03,  1.4418291e-03, -8.8401162e-04,\n",
            "       -5.5963029e-03,  1.7282658e-03, -8.9700235e-04,  6.7942012e-03,\n",
            "        3.9742813e-03,  4.5277732e-03,  1.4312179e-03, -2.7009239e-03,\n",
            "       -4.3635098e-03, -1.0288550e-03,  1.4341435e-03, -2.6484241e-03,\n",
            "       -7.0777815e-03, -7.8031109e-03, -9.1207437e-03, -5.9352806e-03,\n",
            "       -1.8440931e-03, -4.3248688e-03, -6.4610597e-03, -3.7126094e-03,\n",
            "        4.2900462e-03, -3.7389786e-03,  8.3834911e-03,  1.5367783e-03,\n",
            "       -7.2438149e-03,  9.4372164e-03,  7.6301340e-03,  5.4943156e-03,\n",
            "       -6.8509537e-03,  5.8227968e-03,  4.0109116e-03,  5.1868195e-03,\n",
            "        4.2579495e-03,  1.9382851e-03, -3.1648984e-03,  8.3530499e-03,\n",
            "        9.6112443e-03,  3.7958170e-03, -2.8382009e-03,  4.8901720e-06,\n",
            "        1.2187733e-03, -8.4604705e-03, -8.2237506e-03, -2.2594273e-04,\n",
            "        1.2379634e-03, -5.7443925e-03, -4.7222958e-03, -7.3452140e-03,\n",
            "        8.3294734e-03,  1.2077633e-04, -4.5069098e-03,  5.7045054e-03,\n",
            "        9.1823135e-03, -4.0997178e-03,  7.9675326e-03,  5.3745764e-03,\n",
            "        5.8792983e-03,  5.0994428e-04,  8.2131978e-03, -7.0151715e-03],\n",
            "      dtype=float32), array([-8.2441811e-03,  9.3004080e-03, -2.0020864e-04, -1.9665896e-03,\n",
            "        4.6016779e-03, -4.0981956e-03,  2.7404199e-03,  6.9388724e-03,\n",
            "        6.0627353e-03, -7.5137480e-03,  9.3814777e-03,  4.6722987e-03,\n",
            "        3.9672507e-03, -6.2407539e-03,  8.4627103e-03, -2.1470736e-03,\n",
            "        8.8306479e-03, -5.3628981e-03, -8.1303949e-03,  6.8189488e-03,\n",
            "        1.6741983e-03, -2.1973033e-03,  9.5145423e-03,  9.4980383e-03,\n",
            "       -9.7700339e-03,  2.5085006e-03,  6.1524822e-03,  3.8725084e-03,\n",
            "        2.0256767e-03,  4.3237332e-04,  6.7669502e-04, -3.8166780e-03,\n",
            "       -7.1387244e-03, -2.0919468e-03,  3.9276383e-03,  8.8192336e-03,\n",
            "        9.2607057e-03, -5.9769363e-03, -9.4024772e-03,  9.7638564e-03,\n",
            "        3.4269057e-03,  5.1634316e-03,  6.2859794e-03, -2.8047939e-03,\n",
            "        7.3224069e-03,  2.8280281e-03,  2.8659785e-03, -2.3794770e-03,\n",
            "       -3.1255924e-03, -2.3716439e-03,  4.2759478e-03,  7.6205753e-05,\n",
            "       -9.5904991e-03, -9.6632950e-03, -6.1464775e-03, -1.2678698e-04,\n",
            "        2.0000360e-03,  9.4321929e-03,  5.5854376e-03, -4.2849490e-03,\n",
            "        2.7946601e-04,  4.9638115e-03,  7.7018519e-03, -1.1389545e-03,\n",
            "        4.3254397e-03, -5.8147293e-03, -8.0488669e-04,  8.1002573e-03,\n",
            "       -2.3598480e-03, -9.6613402e-03,  5.7798140e-03, -3.9302828e-03,\n",
            "       -1.2260840e-03,  9.9812308e-03, -2.2545534e-03, -4.7571529e-03,\n",
            "       -5.3291768e-03,  6.9839023e-03, -5.7075163e-03,  2.1131267e-03,\n",
            "       -5.2562747e-03,  6.1188308e-03,  4.3587442e-03,  2.6106322e-03,\n",
            "       -1.4920037e-03, -2.7433322e-03,  8.9950692e-03,  5.2192477e-03,\n",
            "       -2.1599287e-03, -9.4706500e-03, -7.4228151e-03, -1.0604229e-03,\n",
            "       -7.9525058e-04, -2.5610244e-03,  9.6813114e-03, -4.6198664e-04,\n",
            "        5.8756992e-03, -7.4521648e-03, -2.5066966e-03, -5.5458802e-03],\n",
            "      dtype=float32), array([-0.00713902,  0.00124103, -0.00717672, -0.00224462,  0.0037193 ,\n",
            "        0.00583312,  0.00119818,  0.00210273, -0.00411039,  0.00722533,\n",
            "       -0.00630704,  0.00464722, -0.00821997,  0.00203647, -0.00497705,\n",
            "       -0.00424769, -0.00310898,  0.00565521,  0.0057984 , -0.00497465,\n",
            "        0.00077333, -0.00849578,  0.00780981,  0.00925729, -0.00274233,\n",
            "        0.00080022,  0.00074665,  0.00547788, -0.00860608,  0.00058446,\n",
            "        0.00686942,  0.00223159,  0.00112468, -0.00932216,  0.00848237,\n",
            "       -0.00626413, -0.00299237,  0.00349379, -0.00077263,  0.00141129,\n",
            "        0.00178199, -0.0068289 , -0.00972481,  0.00904058,  0.00619805,\n",
            "       -0.00691293,  0.00340348,  0.00020606,  0.00475375, -0.00711994,\n",
            "        0.00402695,  0.00434743,  0.00995737, -0.00447374, -0.00138926,\n",
            "       -0.00731732, -0.00969783, -0.00908026, -0.00102275, -0.00650329,\n",
            "        0.00484973, -0.00616403,  0.00251919,  0.00073944, -0.00339215,\n",
            "       -0.00097922,  0.00997913,  0.00914589, -0.00446183,  0.00908303,\n",
            "       -0.00564176,  0.00593092, -0.00309722,  0.00343175,  0.00301723,\n",
            "        0.00690046, -0.00237388,  0.00877504,  0.00758943, -0.00954765,\n",
            "       -0.00800821, -0.0076379 ,  0.00292326, -0.00279472, -0.00692952,\n",
            "       -0.00812826,  0.00830918,  0.00199049, -0.00932802, -0.00479272,\n",
            "        0.00313674, -0.00471321,  0.00528084, -0.00423344,  0.0026418 ,\n",
            "       -0.00804569,  0.00620989,  0.00481889,  0.00078719,  0.00301345],\n",
            "      dtype=float32), array([-8.7252650e-03,  2.1217733e-03, -8.7296363e-04, -9.3043242e-03,\n",
            "       -9.4561549e-03, -1.4329709e-03,  4.4438010e-03,  3.7163144e-03,\n",
            "       -6.5115844e-03, -6.8911430e-03, -4.9940106e-03, -2.2991074e-03,\n",
            "       -7.2514871e-03, -9.5821563e-03, -2.7548573e-03, -8.3504049e-03,\n",
            "       -6.0158856e-03, -5.6697032e-03, -2.3482854e-03, -1.7402583e-03,\n",
            "       -8.9424700e-03, -7.2348618e-04,  8.1648808e-03,  7.7019292e-03,\n",
            "       -7.1892194e-03, -3.6653033e-03,  3.0964359e-03, -9.5713213e-03,\n",
            "        1.4726447e-03,  6.5232976e-03,  5.7656118e-03, -8.7494170e-03,\n",
            "       -4.4864872e-03, -8.1581231e-03,  3.7390495e-05,  9.2663709e-03,\n",
            "        5.9876577e-03,  5.0540054e-03,  5.0555966e-03, -3.2588930e-03,\n",
            "        9.5345676e-03, -7.3611061e-03, -7.2677652e-03, -2.2688904e-03,\n",
            "       -7.7321037e-04, -3.2205593e-03, -6.1392918e-04,  7.4897963e-03,\n",
            "       -6.7768863e-04, -1.6124469e-03,  2.7297139e-03, -8.3571095e-03,\n",
            "        7.8392997e-03,  8.5490141e-03, -9.5746843e-03,  2.4488908e-03,\n",
            "        9.9130655e-03, -7.6743606e-03, -6.9672652e-03, -7.7078552e-03,\n",
            "        8.4065404e-03, -6.8364217e-04,  9.1575040e-03, -8.1504602e-03,\n",
            "        3.7347048e-03,  2.6419840e-03,  7.2074780e-04,  2.3247900e-03,\n",
            "       -7.4692974e-03, -9.3466258e-03,  2.3611055e-03,  6.1630225e-03,\n",
            "        7.9884306e-03,  5.7268511e-03, -7.5258914e-04,  8.3070323e-03,\n",
            "       -9.3289791e-03,  3.4147173e-03,  2.6540746e-04,  3.8507932e-03,\n",
            "        7.3921452e-03, -6.7366585e-03,  5.5811885e-03, -9.4970623e-03,\n",
            "       -8.1432902e-04, -8.6905407e-03, -5.0908998e-03,  9.2846695e-03,\n",
            "       -1.8510905e-03,  2.9214858e-03,  9.0878038e-03,  8.9504058e-03,\n",
            "       -8.2091633e-03, -3.0078299e-03,  9.8978058e-03,  5.0937166e-03,\n",
            "       -1.5963560e-03, -8.7126801e-03,  2.9656654e-03, -6.6604707e-03],\n",
            "      dtype=float32), array([ 8.1327511e-03, -4.4578058e-03, -1.0680025e-03,  1.0073177e-03,\n",
            "       -1.9175684e-04,  1.1478622e-03,  6.1148303e-03, -1.9495508e-05,\n",
            "       -3.2462522e-03, -1.5109396e-03,  5.8982684e-03,  1.5137674e-03,\n",
            "       -7.2433776e-04,  9.3340641e-03, -4.9222698e-03, -8.3875569e-04,\n",
            "        9.1759916e-03,  6.7493417e-03,  1.5026251e-03, -8.8838022e-03,\n",
            "        1.1492629e-03, -2.2881697e-03,  9.3688620e-03,  1.2099467e-03,\n",
            "        1.4903822e-03,  2.4061108e-03, -1.8360774e-03, -4.9993349e-03,\n",
            "        2.3171953e-04, -2.0149488e-03,  6.6009131e-03,  8.9405710e-03,\n",
            "       -6.7415315e-04,  2.9769188e-03, -6.1084125e-03,  1.6993496e-03,\n",
            "       -6.9257813e-03, -8.6949673e-03, -5.9007416e-03, -8.9568784e-03,\n",
            "        7.2775153e-03, -5.7719713e-03,  8.2760984e-03, -7.2444365e-03,\n",
            "        3.4218112e-03,  9.6755801e-03, -7.7861035e-03, -9.9449148e-03,\n",
            "       -4.3292460e-03, -2.6824395e-03, -2.7175501e-04, -8.8315560e-03,\n",
            "       -8.6181071e-03,  2.8007480e-03, -8.2064290e-03, -9.0704244e-03,\n",
            "       -2.3403689e-03, -8.6328974e-03, -7.0573944e-03, -8.4011331e-03,\n",
            "       -3.0148964e-04, -4.5647323e-03,  6.6274265e-03,  1.5264933e-03,\n",
            "       -3.3420860e-03,  6.1092852e-03, -6.0141599e-03, -4.6563884e-03,\n",
            "       -7.2081434e-03, -4.3369583e-03, -1.8090850e-03,  6.4907307e-03,\n",
            "       -2.7704574e-03,  4.9183965e-03,  6.9049951e-03, -7.4643935e-03,\n",
            "        4.5656157e-03,  6.1271759e-03, -2.9546029e-03,  6.6250032e-03,\n",
            "        6.1261691e-03, -6.4436817e-03, -6.7649428e-03,  2.5395565e-03,\n",
            "       -1.6245834e-03, -6.0657035e-03,  9.4998255e-03, -5.1309015e-03,\n",
            "       -6.5543801e-03, -1.1919895e-04, -2.7019482e-03,  4.4453325e-04,\n",
            "       -3.5373566e-03, -4.1921830e-04, -7.0757972e-04,  8.2317484e-04,\n",
            "        8.1941998e-03, -5.7372763e-03, -1.6594402e-03,  5.5720448e-03],\n",
            "      dtype=float32), array([ 8.1681199e-03, -4.4430327e-03,  8.9854337e-03,  8.2536647e-03,\n",
            "       -4.4352221e-03,  3.0310510e-04,  4.2744912e-03, -3.9263200e-03,\n",
            "       -5.5599655e-03, -6.5123225e-03, -6.7073823e-04, -2.9592158e-04,\n",
            "        4.4630850e-03, -2.4740540e-03, -1.7260908e-04,  2.4618758e-03,\n",
            "        4.8675989e-03, -3.0808449e-05, -6.3394094e-03, -9.2608072e-03,\n",
            "        2.6657581e-05,  6.6618943e-03,  1.4660227e-03, -8.9665223e-03,\n",
            "       -7.9386048e-03,  6.5519023e-03, -3.7856805e-03,  6.2549924e-03,\n",
            "       -6.6810320e-03,  8.4796622e-03, -6.5163244e-03,  3.2880199e-03,\n",
            "       -1.0569858e-03, -6.7875278e-03, -3.2875966e-03, -1.1614120e-03,\n",
            "       -5.4709399e-03, -1.2113475e-03, -7.5633135e-03,  2.6466595e-03,\n",
            "        9.0701487e-03, -2.3772502e-03, -9.7651005e-04,  3.5135616e-03,\n",
            "        8.6650876e-03, -5.9218528e-03, -6.8875779e-03, -2.9329848e-03,\n",
            "        9.1476962e-03,  8.6626766e-04, -8.6784009e-03, -1.4469790e-03,\n",
            "        9.4794659e-03, -7.5494875e-03, -5.3580985e-03,  9.3165627e-03,\n",
            "       -8.9737261e-03,  3.8259076e-03,  6.6544057e-04,  6.6607012e-03,\n",
            "        8.3127534e-03, -2.8507852e-03, -3.9923131e-03,  8.8979173e-03,\n",
            "        2.0896459e-03,  6.2489416e-03, -9.4457148e-03,  9.5901238e-03,\n",
            "       -1.3483083e-03, -6.0521150e-03,  2.9925345e-03, -4.5661093e-04,\n",
            "        4.7064926e-03, -2.2830211e-03, -4.1378425e-03,  2.2778988e-03,\n",
            "        8.3543835e-03, -4.9956059e-03,  2.6686788e-03, -7.9905549e-03,\n",
            "       -6.7733466e-03, -4.6766878e-04, -8.7677278e-03,  2.7894378e-03,\n",
            "        1.5985954e-03, -2.3196924e-03,  5.0037908e-03,  9.7487867e-03,\n",
            "        8.4542679e-03, -1.8802249e-03,  2.0581519e-03, -4.0036892e-03,\n",
            "       -8.2414057e-03,  6.2779556e-03, -1.9491815e-03, -6.6620467e-04,\n",
            "       -1.7713320e-03, -4.5356657e-03,  4.0617096e-03, -4.2701806e-03],\n",
            "      dtype=float32), array([-9.5785465e-03,  8.9431154e-03,  4.1650687e-03,  9.2347348e-03,\n",
            "        6.6435025e-03,  2.9247368e-03,  9.8040197e-03, -4.4246409e-03,\n",
            "       -6.8033109e-03,  4.2273807e-03,  3.7290000e-03, -5.6646108e-03,\n",
            "        9.7047603e-03, -3.5583067e-03,  9.5494064e-03,  8.3472609e-04,\n",
            "       -6.3384566e-03, -1.9771170e-03, -7.3770545e-03, -2.9795230e-03,\n",
            "        1.0416972e-03,  9.4826873e-03,  9.3558477e-03, -6.5958775e-03,\n",
            "        3.4751510e-03,  2.2755705e-03, -2.4893521e-03, -9.2291720e-03,\n",
            "        1.0271263e-03, -8.1657059e-03,  6.3201892e-03, -5.8000805e-03,\n",
            "        5.5354391e-03,  9.8337233e-03, -1.6000033e-04,  4.5284927e-03,\n",
            "       -1.8094003e-03,  7.3607611e-03,  3.9400971e-03, -9.0103243e-03,\n",
            "       -2.3985039e-03,  3.6287690e-03, -9.9568366e-05, -1.2012708e-03,\n",
            "       -1.0554385e-03, -1.6716016e-03,  6.0495257e-04,  4.1650953e-03,\n",
            "       -4.2527914e-03, -3.8336217e-03, -5.2816868e-05,  2.6935578e-04,\n",
            "       -1.6880632e-04, -4.7855065e-03,  4.3134023e-03, -2.1719194e-03,\n",
            "        2.1035396e-03,  6.6652300e-04,  5.9696771e-03, -6.8423809e-03,\n",
            "       -6.8157101e-03, -4.4762576e-03,  9.4358288e-03, -1.5918827e-03,\n",
            "       -9.4292425e-03, -5.4504158e-04, -4.4489228e-03,  6.0000787e-03,\n",
            "       -9.5836855e-03,  2.8590010e-03, -9.2528323e-03,  1.2498009e-03,\n",
            "        5.9991982e-03,  7.3973476e-03, -7.6214634e-03, -6.0530235e-03,\n",
            "       -6.8384409e-03, -7.9183402e-03, -9.4990805e-03, -2.1254970e-03,\n",
            "       -8.3593250e-04, -7.2562015e-03,  6.7870365e-03,  1.1196196e-03,\n",
            "        5.8288667e-03,  1.4728665e-03,  7.8936579e-04, -7.3681297e-03,\n",
            "       -2.1766580e-03,  4.3210792e-03, -5.0853146e-03,  1.1307895e-03,\n",
            "        2.8833640e-03, -1.5363609e-03,  9.9322954e-03,  8.3496347e-03,\n",
            "        2.4156666e-03,  7.1182456e-03,  5.8914376e-03, -5.5806171e-03],\n",
            "      dtype=float32), array([-0.00515662, -0.00667375, -0.00777872,  0.00832334, -0.00200863,\n",
            "       -0.00687956, -0.0041399 ,  0.00515829, -0.00288337, -0.00376911,\n",
            "        0.00162833, -0.00278643, -0.00159113,  0.00109277, -0.00298934,\n",
            "        0.00853213,  0.00393696, -0.00995611,  0.00625164, -0.00678815,\n",
            "        0.00077974,  0.00441535, -0.00509126, -0.0020989 ,  0.00811095,\n",
            "       -0.00424342, -0.00765908,  0.00925443, -0.00216058, -0.00472357,\n",
            "        0.00859602,  0.00429653,  0.00435294,  0.00926722, -0.00846097,\n",
            "        0.00525252,  0.00205308,  0.00417778,  0.00169766,  0.00444865,\n",
            "        0.00446933,  0.00609727, -0.0031982 , -0.00458156, -0.00042105,\n",
            "        0.00252777, -0.00328175,  0.0060591 ,  0.00417576,  0.00777787,\n",
            "        0.00255766,  0.0081181 , -0.00140369,  0.00809124,  0.00372585,\n",
            "       -0.00804614, -0.00392047, -0.00247932,  0.00489121, -0.0008445 ,\n",
            "       -0.00281981,  0.00783378,  0.00933943, -0.00160667, -0.00516784,\n",
            "       -0.00469291, -0.00486681, -0.00960677,  0.00136852, -0.0042162 ,\n",
            "        0.00253253,  0.00562731, -0.00406192, -0.00960706,  0.00157165,\n",
            "       -0.00670162,  0.00250083, -0.00376808,  0.00707789,  0.00063189,\n",
            "        0.00356895, -0.00275097, -0.00171302,  0.00767947,  0.0014038 ,\n",
            "       -0.00585455, -0.00782522,  0.00123124,  0.00646169,  0.00556244,\n",
            "       -0.00896251,  0.00860312,  0.00405067,  0.00747342,  0.00976179,\n",
            "       -0.00729992, -0.00904202,  0.00581622,  0.00939278,  0.00352022],\n",
            "      dtype=float32), array([ 7.0832339e-03, -1.5659330e-03,  7.9410290e-03, -9.4850436e-03,\n",
            "       -8.0357529e-03, -6.6471156e-03, -4.0082047e-03,  4.9846792e-03,\n",
            "       -3.8191448e-03, -8.3232010e-03,  8.4085669e-03, -3.7479426e-03,\n",
            "        8.6052651e-03, -4.8915078e-03,  3.9223912e-03,  4.9299356e-03,\n",
            "        2.4039971e-03, -2.8195255e-03,  2.8495034e-03, -8.2676746e-03,\n",
            "       -2.7556256e-03, -2.5854143e-03,  7.2562150e-03, -3.4552848e-03,\n",
            "       -6.5868311e-03,  4.3474897e-03, -4.8698724e-04, -3.5985394e-03,\n",
            "        6.8826284e-03,  3.8761371e-03, -3.8916836e-03,  7.7993568e-04,\n",
            "        9.1538550e-03,  7.7453530e-03,  6.3648205e-03,  4.6660961e-03,\n",
            "        2.3832540e-03, -1.8382518e-03, -6.3721766e-03, -3.0595792e-04,\n",
            "       -1.5732963e-03, -5.7548838e-04, -6.2592244e-03,  7.4355905e-03,\n",
            "       -6.5922323e-03, -7.2434847e-03, -2.7682378e-03, -1.5130428e-03,\n",
            "       -7.6271300e-03,  6.9955114e-04, -5.3297170e-03, -1.2738622e-03,\n",
            "       -7.3749102e-03,  1.9652108e-03,  3.2751143e-03, -2.1825967e-05,\n",
            "       -5.4445216e-03, -1.7285959e-03,  7.0833741e-03,  3.7490849e-03,\n",
            "       -8.8761970e-03, -3.4109843e-03,  2.3606336e-03,  2.1474394e-03,\n",
            "       -9.4611840e-03,  4.5695375e-03, -8.6582759e-03, -7.3847361e-03,\n",
            "        3.4882647e-03, -3.4676241e-03,  3.5659224e-03,  8.8955909e-03,\n",
            "       -3.5809253e-03,  9.3189320e-03,  1.7201212e-03,  9.8498780e-03,\n",
            "        5.7053240e-03, -9.1448156e-03, -3.3243343e-03,  6.5264064e-03,\n",
            "        5.6028697e-03,  8.6979046e-03,  6.9295522e-03,  8.0475835e-03,\n",
            "       -9.8253237e-03,  4.3018023e-03, -5.0238781e-03,  3.5167269e-03,\n",
            "        6.0589947e-03,  4.3883924e-03,  7.5213630e-03,  1.5081068e-03,\n",
            "       -1.2637426e-03,  5.7700207e-03, -5.6408579e-03,  3.3426069e-05,\n",
            "        9.4575901e-03, -5.4889983e-03,  3.8101312e-03, -8.1016636e-03],\n",
            "      dtype=float32), array([ 9.7724665e-03,  8.1627928e-03,  1.2806881e-03,  5.1019988e-03,\n",
            "        1.3974116e-03, -6.4653163e-03, -1.4209446e-03,  6.4507606e-03,\n",
            "       -4.6201861e-03, -4.0009441e-03,  4.9283234e-03,  2.7060215e-03,\n",
            "       -1.8460491e-03, -2.8651690e-03,  6.0024904e-03, -5.7113366e-03,\n",
            "       -3.2224262e-03, -6.4890906e-03, -4.2411517e-03, -8.5951081e-03,\n",
            "       -4.4706757e-03, -8.5020009e-03,  1.4067763e-03, -8.6100381e-03,\n",
            "       -9.9112652e-03, -8.2037486e-03, -6.7852014e-03,  6.6796858e-03,\n",
            "        3.7834269e-03,  3.5610382e-04, -2.9455551e-03, -7.4219541e-03,\n",
            "        5.4351427e-04,  4.9058569e-04,  1.9138014e-04,  8.5131783e-04,\n",
            "        7.9481129e-04, -7.5661024e-05, -8.0045722e-03, -5.8780559e-03,\n",
            "       -8.3950097e-03, -1.3161782e-03,  1.8220154e-03,  7.4109752e-03,\n",
            "       -1.9600536e-03, -2.3286021e-03,  9.4756465e-03,  7.9454359e-05,\n",
            "       -2.3947493e-03,  8.6101517e-03,  2.6818714e-03, -5.3451718e-03,\n",
            "        6.5822303e-03,  4.5138146e-03, -7.0467391e-03, -3.1981245e-04,\n",
            "        8.4261002e-04,  5.7488130e-03, -1.7163602e-03, -2.7879830e-03,\n",
            "        1.7522324e-03,  8.3933526e-04,  1.1996432e-03, -2.6292510e-03,\n",
            "       -5.9894407e-03,  7.3237326e-03,  7.5716223e-03,  8.2903495e-03,\n",
            "       -8.6010797e-03,  2.6448832e-03, -3.5587479e-03,  9.6256295e-03,\n",
            "        2.9077560e-03,  4.6348446e-03,  2.3920895e-03,  6.6051893e-03,\n",
            "       -5.7442128e-03,  7.8978399e-03, -2.4121259e-03, -4.5650853e-03,\n",
            "       -2.0572315e-03,  9.7286701e-03, -6.8582324e-03, -2.1781579e-03,\n",
            "        6.9998708e-03, -5.6823919e-05, -6.2946556e-03, -6.3933348e-03,\n",
            "        8.9495229e-03,  6.4363433e-03,  4.7807582e-03, -3.2570946e-03,\n",
            "       -9.2691202e-03,  3.7840796e-03,  7.1654823e-03, -5.6407275e-03,\n",
            "       -7.8632301e-03, -2.9818031e-03, -4.9301172e-03, -2.3121373e-03],\n",
            "      dtype=float32), array([-1.9410497e-03, -5.2730604e-03,  9.4491886e-03, -9.2901820e-03,\n",
            "        4.4826353e-03,  5.3887758e-03, -1.4027650e-03,  9.0149520e-03,\n",
            "        9.8760156e-03, -5.4901745e-03, -6.0153003e-03, -6.7537073e-03,\n",
            "       -7.8935837e-03, -3.0346238e-03, -5.5995900e-03, -8.3351377e-03,\n",
            "        8.0063840e-04,  2.9932628e-03,  6.4107385e-03, -2.6553690e-03,\n",
            "       -4.4452986e-03,  1.2588215e-03,  4.0164019e-04,  8.1228800e-03,\n",
            "        1.9325534e-04,  7.2349636e-03, -8.2806293e-03,  8.4333988e-03,\n",
            "       -1.8895367e-03,  8.7046456e-03, -7.6074260e-03,  1.8052420e-03,\n",
            "        1.0785159e-03,  3.4529901e-05, -5.1091854e-03, -9.2413612e-03,\n",
            "       -7.2551966e-03, -7.9628862e-03,  1.9082136e-03,  4.6615949e-04,\n",
            "       -1.8248943e-03,  7.1182703e-03, -2.4740887e-03, -1.3472838e-03,\n",
            "       -8.8968612e-03, -9.9298675e-03,  8.9322561e-03, -5.7535232e-03,\n",
            "       -6.3607600e-03,  5.2077798e-03,  6.6582309e-03, -6.8311128e-03,\n",
            "        9.4551977e-04, -6.0001118e-03,  1.6540275e-03, -4.2875679e-03,\n",
            "       -3.4363570e-03,  2.1805263e-03,  8.6635184e-03,  6.7481906e-03,\n",
            "       -9.6710771e-03, -5.6256666e-03,  7.8902217e-03,  1.9943833e-03,\n",
            "       -4.2610173e-03,  6.0460262e-04,  9.5053166e-03, -1.1059270e-03,\n",
            "       -9.4268937e-03,  1.6151415e-03,  6.2361676e-03,  6.2955166e-03,\n",
            "        4.0914076e-03, -5.6557273e-03, -3.5505139e-04, -5.2744195e-05,\n",
            "        4.5782560e-03, -8.0361860e-03, -8.0202203e-03,  2.6123310e-04,\n",
            "       -8.6027766e-03,  5.8142012e-03, -4.1872842e-04,  9.9896090e-03,\n",
            "       -5.3520421e-03, -4.8561377e-04,  7.7613560e-03, -4.0705185e-03,\n",
            "       -5.0110053e-03,  1.5955550e-03,  2.6627553e-03, -2.5543664e-03,\n",
            "        6.4440938e-03, -7.6546916e-03,  3.3999849e-03,  4.8025165e-04,\n",
            "        8.7267114e-03,  5.9685358e-03,  6.8201567e-03,  7.8334482e-03],\n",
            "      dtype=float32), array([-0.00949559,  0.00955648, -0.00776913, -0.00263793, -0.00492212,\n",
            "       -0.00497865, -0.00801604, -0.00777815, -0.00455866, -0.00128625,\n",
            "       -0.00509658,  0.00613448, -0.00951296, -0.00529459,  0.00942976,\n",
            "        0.00699634,  0.00769096,  0.00423369,  0.00050382, -0.00600008,\n",
            "        0.00602254,  0.0026412 ,  0.00770449,  0.00639781,  0.00795022,\n",
            "        0.0086558 , -0.00990853, -0.0067539 ,  0.00133685,  0.00644043,\n",
            "        0.00738344,  0.00552549,  0.00767656, -0.00513303,  0.00657841,\n",
            "       -0.00410614, -0.00904652,  0.00913126,  0.00133062, -0.00276884,\n",
            "       -0.00248782, -0.00422314,  0.0048154 ,  0.0043956 , -0.00265043,\n",
            "       -0.00734405, -0.00357853, -0.00033566,  0.00610487, -0.00283128,\n",
            "       -0.00012851,  0.00088115, -0.00710467,  0.00207096, -0.00142611,\n",
            "        0.00280304,  0.004847  , -0.00135415, -0.00277854,  0.00775578,\n",
            "        0.0050497 ,  0.00670782,  0.00452305,  0.00867004,  0.00746976,\n",
            "       -0.0010786 ,  0.00873343,  0.00459596,  0.00543733, -0.00137976,\n",
            "       -0.00203909, -0.00441593, -0.0085134 ,  0.00303252,  0.00889454,\n",
            "        0.00891856, -0.00193853,  0.00609067,  0.00377779, -0.00429801,\n",
            "        0.0020481 , -0.0054421 ,  0.00820646,  0.00544866,  0.00317957,\n",
            "        0.00410142,  0.00865959,  0.00726945, -0.00082689, -0.00706475,\n",
            "        0.00838755,  0.00723916,  0.0017277 , -0.00134584, -0.00588309,\n",
            "       -0.00454166,  0.00864472, -0.00314572, -0.00633369,  0.00987515],\n",
            "      dtype=float32), array([ 7.6954383e-03,  9.1213509e-03,  1.1336880e-03, -8.3235884e-03,\n",
            "        8.4190629e-03, -3.7038594e-03,  5.7451273e-03,  4.3951650e-03,\n",
            "        9.6863145e-03, -9.2990967e-03,  9.2091402e-03, -9.2816902e-03,\n",
            "       -6.9092507e-03, -9.0985447e-03, -5.5480581e-03,  7.3724953e-03,\n",
            "        9.1720615e-03, -3.3229676e-03,  3.7203943e-03, -3.6316400e-03,\n",
            "        7.8806533e-03,  5.8679017e-03,  4.4985910e-07, -3.6252232e-03,\n",
            "       -7.2212680e-03,  4.7675874e-03,  1.4463877e-03, -2.6133540e-03,\n",
            "        7.8384997e-03, -4.0507815e-03, -9.1401348e-03, -2.2513929e-03,\n",
            "        1.2994197e-04, -6.6426420e-03, -5.4863174e-03, -8.5025467e-03,\n",
            "        9.2337392e-03,  7.4211294e-03, -2.9237644e-04,  7.3663928e-03,\n",
            "        7.9464000e-03, -7.8701274e-04,  6.6161524e-03,  3.7647674e-03,\n",
            "        5.0785556e-03,  7.2494796e-03, -4.7405334e-03, -2.1858076e-03,\n",
            "        8.7818294e-04,  4.2371154e-03,  3.3045516e-03,  5.0970903e-03,\n",
            "        4.5824079e-03, -8.4353797e-03, -3.1812985e-03, -7.2345398e-03,\n",
            "        9.6866190e-03,  5.0087450e-03,  1.7245843e-04,  4.1209506e-03,\n",
            "       -7.6529905e-03, -6.2941657e-03,  3.0806114e-03,  6.5389983e-03,\n",
            "        3.9491993e-03,  6.0196519e-03, -1.9888075e-03, -3.3473724e-03,\n",
            "        2.0542639e-04, -3.1906718e-03, -5.5172155e-03, -7.7900379e-03,\n",
            "        6.5372474e-03, -1.0918293e-03, -1.8847052e-03, -7.8046387e-03,\n",
            "        9.3356036e-03,  8.7350729e-04,  1.7691329e-03,  2.4902062e-03,\n",
            "       -7.3838788e-03,  1.6374054e-03,  2.9761817e-03, -8.5588656e-03,\n",
            "        4.9580666e-03,  2.4338441e-03,  7.5007458e-03,  5.0463933e-03,\n",
            "       -3.0277048e-03, -7.1607302e-03,  7.0988094e-03,  1.9015193e-03,\n",
            "        5.2004857e-03,  6.3798944e-03,  1.9159865e-03, -6.1326721e-03,\n",
            "       -2.2241179e-06,  8.2638180e-03, -6.0973773e-03,  9.4395475e-03],\n",
            "      dtype=float32), array([-7.1866447e-03,  4.2309938e-03,  2.1639825e-03,  7.4467910e-03,\n",
            "       -4.9011204e-03, -4.5745219e-03, -6.0902638e-03,  3.3012989e-03,\n",
            "       -4.5023700e-03,  8.5139954e-03, -4.2826007e-03, -9.1128591e-03,\n",
            "       -4.8114820e-03,  6.4293835e-03, -6.3794907e-03, -5.2577476e-03,\n",
            "       -7.2884047e-03,  6.0188957e-03,  3.3505615e-03,  2.8334805e-03,\n",
            "       -3.1396763e-03,  6.0401093e-03, -6.1490978e-03, -1.9726304e-03,\n",
            "       -5.9779272e-03, -9.9877699e-04, -2.0343901e-03,  8.4873484e-03,\n",
            "        7.7718214e-05, -8.5743750e-03, -5.4189437e-03, -6.8703084e-03,\n",
            "        2.7024513e-03,  9.4468854e-03, -5.8214394e-03,  8.2656518e-03,\n",
            "        8.5415849e-03, -7.0718359e-03, -8.8814581e-03,  9.4610695e-03,\n",
            "        8.3616814e-03, -4.6936595e-03, -6.7254971e-03,  7.8348611e-03,\n",
            "        3.7657029e-03,  8.0930376e-03, -7.5849136e-03, -9.5243659e-03,\n",
            "        1.5853860e-03, -9.7996537e-03, -4.8921760e-03, -3.4619519e-03,\n",
            "        9.6133454e-03,  8.6269397e-03, -2.8272530e-03,  5.8292393e-03,\n",
            "        8.2453750e-03, -2.2616850e-03,  9.5303422e-03,  7.1790223e-03,\n",
            "        2.0431494e-03, -3.8591449e-03, -5.0749611e-03, -3.0481615e-03,\n",
            "        7.8833876e-03, -6.1892970e-03, -2.9315935e-03,  9.1843968e-03,\n",
            "        3.4525252e-03,  6.0804775e-03, -8.0312006e-03, -7.4432761e-04,\n",
            "        5.5263555e-03, -4.7210241e-03,  7.4839517e-03,  9.3159582e-03,\n",
            "       -4.1034661e-04, -2.0604073e-03, -5.9610821e-04, -5.7885256e-03,\n",
            "       -8.3834175e-03, -1.5103254e-03, -2.5575233e-03,  4.3969178e-03,\n",
            "       -6.8696975e-03,  5.4123681e-03, -6.7444611e-03, -7.8208037e-03,\n",
            "        8.4817307e-03,  8.9271534e-03, -3.4745180e-03,  3.4966089e-03,\n",
            "       -5.7993787e-03, -8.7528508e-03, -5.5097803e-03,  6.7405403e-03,\n",
            "        6.4179534e-03,  9.4282422e-03,  7.0584421e-03,  6.7583141e-03],\n",
            "      dtype=float32), array([ 1.29934622e-03, -9.80580598e-03,  4.58242884e-03, -5.31396188e-04,\n",
            "        6.32465305e-03,  1.77587464e-03, -3.12695745e-03,  7.76290614e-03,\n",
            "        1.55120506e-03,  5.12970109e-05, -4.61396854e-03, -8.45908746e-03,\n",
            "       -7.76731735e-03,  8.67869332e-03, -8.92909430e-03,  9.03928559e-03,\n",
            "       -9.27123521e-03, -2.78302497e-04, -1.90658239e-03, -8.94083362e-03,\n",
            "        8.63871817e-03,  6.78002229e-03,  3.02188867e-03,  4.84177144e-03,\n",
            "        1.19911660e-04,  9.42363963e-03,  7.01196352e-03, -9.85408667e-03,\n",
            "       -4.43407381e-03, -1.29276712e-03,  3.06168827e-03, -4.31855675e-03,\n",
            "        1.45896000e-03, -7.85480440e-03,  2.77750380e-03,  4.69954591e-03,\n",
            "        4.94366093e-03, -3.17473826e-03, -8.42665881e-03, -9.22463369e-03,\n",
            "       -7.31763081e-04, -7.33149191e-03, -6.81147119e-03,  6.11683773e-03,\n",
            "        7.17251003e-03,  2.11546477e-03, -7.90702924e-03, -5.69777517e-03,\n",
            "        8.06121435e-03,  3.92539613e-03, -5.24553563e-03, -7.39063788e-03,\n",
            "        7.65408098e-04,  3.46927554e-03,  2.08337954e-03,  3.10311373e-03,\n",
            "       -5.61506301e-03, -9.89225227e-03, -7.02267978e-03,  2.43735412e-04,\n",
            "        4.62413067e-03,  4.52640094e-03,  1.88679493e-03,  5.17688505e-03,\n",
            "       -1.08912034e-04,  4.11365088e-03, -9.13037173e-03,  7.70162372e-03,\n",
            "        6.15109690e-03,  5.12845628e-03,  7.21103000e-03,  8.43945798e-03,\n",
            "        7.40481308e-04, -1.70606095e-03,  5.28686563e-04, -9.32001974e-03,\n",
            "        8.40573665e-03, -6.37498545e-03,  8.42918828e-03, -4.24893247e-03,\n",
            "        6.46888046e-04, -9.17167403e-03, -9.56025906e-03, -7.82644004e-03,\n",
            "       -7.73321604e-03,  3.73165152e-04, -7.22335139e-03, -4.94886376e-03,\n",
            "       -5.26635302e-03, -4.28906968e-03,  7.01815309e-03,  4.83465474e-03,\n",
            "        8.68587848e-03,  7.09405541e-03, -5.69088524e-03,  7.23750889e-03,\n",
            "       -9.29813087e-03, -2.59646843e-03, -7.75745139e-03,  4.19849437e-03],\n",
            "      dtype=float32), array([ 0.00180023,  0.00704609,  0.0029447 , -0.00698085,  0.00771268,\n",
            "       -0.00598893,  0.00899771,  0.0029592 , -0.00401529, -0.00468899,\n",
            "       -0.00441672, -0.00614646,  0.00937874, -0.0026496 ,  0.00777244,\n",
            "       -0.00968034,  0.00210879, -0.00123361,  0.00754423, -0.0090546 ,\n",
            "        0.00743756, -0.0051058 , -0.00601377, -0.00564916, -0.00337917,\n",
            "       -0.0034111 , -0.00319566, -0.0074922 ,  0.00070878, -0.00057607,\n",
            "       -0.001684  ,  0.00375713, -0.00762019, -0.00322142,  0.00515534,\n",
            "        0.00854386, -0.00980994,  0.00719534,  0.00530949, -0.0038797 ,\n",
            "        0.00857616, -0.00922199,  0.00724868,  0.00536383,  0.00129359,\n",
            "       -0.00519975, -0.00417865, -0.00335678,  0.00160829,  0.0015867 ,\n",
            "        0.00738824,  0.00997759,  0.00886734, -0.00400645,  0.00964539,\n",
            "       -0.00062954,  0.00486543,  0.00254902, -0.00062981,  0.00366745,\n",
            "       -0.00531941, -0.00575668, -0.00760464,  0.00190643,  0.00652587,\n",
            "        0.00088213,  0.00125695,  0.0031716 ,  0.00813467, -0.00770006,\n",
            "        0.00226075, -0.00747411,  0.00370981,  0.00951055,  0.00752026,\n",
            "        0.00642603,  0.00801478,  0.00655115,  0.00685668,  0.00868209,\n",
            "       -0.00494804,  0.00921295,  0.0050592 , -0.00213025,  0.00848745,\n",
            "        0.00508134,  0.00964895,  0.0028324 ,  0.00986754,  0.001197  ,\n",
            "        0.00912918,  0.00358697,  0.00656481, -0.00361133,  0.00679291,\n",
            "        0.00724357, -0.00213346, -0.00185955,  0.00361175, -0.00703643],\n",
            "      dtype=float32), array([ 0.00973437, -0.0097843 , -0.0065015 ,  0.0027909 ,  0.00640933,\n",
            "       -0.00538944,  0.0027609 ,  0.00912935, -0.00682739, -0.00611716,\n",
            "       -0.00498625, -0.00368333,  0.00184301,  0.00969617,  0.00643201,\n",
            "        0.00040991,  0.00249252,  0.00844401,  0.0091225 ,  0.00559955,\n",
            "        0.00595278, -0.00760873, -0.00381668, -0.00567051,  0.00619558,\n",
            "       -0.00225326, -0.00880246,  0.00761527,  0.00839687, -0.00331923,\n",
            "        0.00913698, -0.00072655, -0.00360193, -0.00040002,  0.00018996,\n",
            "       -0.003506  ,  0.00282223,  0.00572162,  0.00686927, -0.00891877,\n",
            "       -0.0022091 , -0.00548987,  0.00752519,  0.00650088, -0.00435583,\n",
            "        0.00231748, -0.00597063,  0.00023704,  0.00948221, -0.0026012 ,\n",
            "       -0.00519807, -0.0073972 , -0.00292503, -0.00085389,  0.00353595,\n",
            "        0.00974722, -0.00337893,  0.00189842,  0.00968199,  0.00155878,\n",
            "        0.00099801,  0.00980266,  0.00931037,  0.00771814, -0.00617454,\n",
            "        0.0099908 ,  0.00583287,  0.00907068, -0.00199759,  0.00335906,\n",
            "        0.00683642, -0.00388315,  0.00664449,  0.0025547 ,  0.0093355 ,\n",
            "       -0.00303198, -0.00310719,  0.00622605, -0.00907911, -0.00726223,\n",
            "       -0.00649161, -0.00075852, -0.00236388,  0.0068392 ,  0.00923478,\n",
            "       -0.00090954,  0.00141954,  0.0020217 , -0.0020124 , -0.00803001,\n",
            "        0.00745719, -0.00428668,  0.00457763,  0.00909231,  0.00305353,\n",
            "        0.00312722,  0.00406399, -0.00271737,  0.00382555,  0.00034827],\n",
            "      dtype=float32), array([ 5.6222533e-03,  5.4984563e-03,  1.8221724e-03,  5.7558268e-03,\n",
            "       -8.9760926e-03,  6.5508178e-03,  9.2218276e-03, -4.2066877e-03,\n",
            "        1.6007575e-03, -5.2398006e-03,  1.0559461e-03,  2.7678488e-03,\n",
            "        8.1572542e-03,  5.5057957e-04,  2.5598875e-03,  1.3059108e-03,\n",
            "        8.4176911e-03, -5.7098726e-03, -6.2612812e-03, -3.6433348e-03,\n",
            "       -2.2877580e-03,  5.0457534e-03, -8.1118457e-03, -2.8253659e-03,\n",
            "       -8.1820032e-03,  5.1580267e-03, -2.5826921e-03, -9.0666618e-03,\n",
            "        4.0718690e-03,  9.0215029e-03, -3.0268049e-03, -5.8314302e-03,\n",
            "        3.0328836e-03, -4.4937120e-04, -9.9774264e-03,  8.4171258e-03,\n",
            "       -7.3380852e-03, -4.9285390e-03, -2.6589516e-03, -5.4571996e-03,\n",
            "        1.7079364e-03,  9.7082816e-03,  4.5766495e-03,  8.0898870e-03,\n",
            "       -4.7138738e-04,  6.4055034e-04, -2.6813145e-03, -8.7774619e-03,\n",
            "        3.4402811e-03,  2.0966725e-03, -9.4272122e-03, -4.9677519e-03,\n",
            "       -9.7483629e-03, -5.7128244e-03,  4.0662764e-03,  8.6421985e-03,\n",
            "        4.1165976e-03,  2.3838384e-03,  8.1418799e-03, -1.1053701e-03,\n",
            "       -1.3930522e-03, -8.7437266e-03, -1.1591252e-04, -2.5562982e-03,\n",
            "        3.8725289e-04,  7.2808196e-03, -7.0424229e-03, -3.9427457e-03,\n",
            "       -6.6615585e-03, -3.5414007e-03, -3.3118892e-03,  2.1402154e-03,\n",
            "        3.3224446e-03, -4.9598413e-03, -4.5337910e-03,  1.1383062e-03,\n",
            "        5.4542189e-03,  5.3808461e-03, -2.9653080e-03, -4.2703929e-03,\n",
            "       -5.6180633e-03, -5.5449212e-04,  1.9492126e-03,  1.5368592e-03,\n",
            "        7.3487614e-03, -2.7314131e-03, -5.7083751e-05, -5.5235908e-03,\n",
            "       -1.1681539e-03, -7.7158911e-03, -9.5002790e-04,  1.3214368e-03,\n",
            "       -8.5909087e-03,  8.7514715e-03, -9.2067905e-03, -9.6290084e-03,\n",
            "       -8.5132169e-03,  7.3039806e-03,  5.4612574e-03,  9.2637986e-03],\n",
            "      dtype=float32), array([ 0.00257018,  0.00084653, -0.00253944,  0.00935767,  0.00275751,\n",
            "        0.00409565, -0.00118294,  0.0009045 ,  0.00662431, -0.0007265 ,\n",
            "        0.00334151, -0.00067202,  0.0052484 ,  0.00363993,  0.00258253,\n",
            "       -0.00530989, -0.0047081 ,  0.00430802, -0.00590717, -0.00018021,\n",
            "       -0.00063352,  0.00349324, -0.00844227,  0.00881723, -0.00144874,\n",
            "       -0.00533093,  0.00405447, -0.00193549, -0.00776548, -0.0044968 ,\n",
            "       -0.00038773, -0.00894647,  0.00057056,  0.00244179, -0.00322527,\n",
            "        0.0025704 ,  0.0024808 ,  0.00998822,  0.00143051,  0.00202054,\n",
            "        0.00277956, -0.00207787, -0.00869862,  0.00802317, -0.0019747 ,\n",
            "       -0.00969231, -0.006552  , -0.00394586,  0.00395435,  0.00503858,\n",
            "        0.00608601, -0.00677026,  0.00068884, -0.00277528, -0.0052092 ,\n",
            "        0.00698127,  0.00395197, -0.00310651, -0.00827691, -0.00514079,\n",
            "       -0.00064953,  0.00781176,  0.00604419, -0.00845166, -0.00956354,\n",
            "        0.00713384, -0.00232757, -0.00369231,  0.00574983, -0.00584431,\n",
            "        0.00509395, -0.00024243, -0.00687516, -0.00033164,  0.00635899,\n",
            "        0.00929394,  0.00222091,  0.00505009, -0.00497452, -0.00079755,\n",
            "       -0.00531764,  0.00118896, -0.00179321, -0.00363263, -0.00701438,\n",
            "        0.00965443,  0.00297583, -0.00228122, -0.00418409,  0.00771379,\n",
            "       -0.00648185,  0.00312154,  0.00078736,  0.00832288,  0.00683618,\n",
            "       -0.00290865,  0.0025351 , -0.00166607, -0.00945466, -0.00261346],\n",
            "      dtype=float32), array([ 1.3361501e-03,  6.5364614e-03,  9.9811861e-03,  9.0703666e-03,\n",
            "       -8.0217775e-03,  6.4799008e-03, -5.7063554e-03, -9.6682797e-04,\n",
            "        4.8071845e-04,  6.5745711e-03,  4.4740061e-03,  4.5940191e-03,\n",
            "        9.4884560e-03,  3.9608651e-04, -6.0458547e-03, -6.3309656e-03,\n",
            "        6.4496989e-03, -5.2475748e-03, -2.8545512e-03,  4.0632561e-03,\n",
            "       -2.2906400e-03, -6.0211737e-03, -2.3236212e-03,  1.2143479e-03,\n",
            "        2.1914172e-03,  6.0791178e-03, -5.2308803e-03,  3.0844298e-03,\n",
            "        7.2394768e-03,  2.1915610e-03,  5.4140035e-03, -4.8395381e-03,\n",
            "        6.1592837e-03, -7.6151770e-03,  3.4897909e-03, -9.3270531e-03,\n",
            "       -2.5918582e-03, -9.0799537e-03, -1.5830770e-03, -5.3686458e-03,\n",
            "       -3.9600269e-03,  1.1450549e-03,  2.8060132e-03, -1.5346056e-03,\n",
            "       -8.1693633e-03, -5.9225312e-03,  8.0990623e-04, -3.9438196e-03,\n",
            "       -9.4211651e-03, -7.7004544e-04,  6.6294326e-03,  5.9763803e-03,\n",
            "       -9.9235578e-03,  3.1246718e-03, -5.9814216e-03, -9.1792168e-03,\n",
            "        1.8143086e-04, -3.6448217e-04, -6.9702589e-03, -6.2598372e-03,\n",
            "       -2.4214718e-03,  7.0878295e-03, -7.5336932e-03,  7.7063642e-03,\n",
            "       -4.8215527e-04,  1.0939453e-03,  9.4680889e-03,  4.7252448e-03,\n",
            "       -3.5794370e-03,  3.7434555e-03,  3.5223088e-03,  6.3398867e-03,\n",
            "        7.7059682e-05, -4.4314321e-03,  1.3268427e-03, -5.4222811e-03,\n",
            "        1.4033333e-03,  4.9357465e-03,  5.1513249e-03,  9.1783358e-03,\n",
            "       -7.5142086e-03, -5.4084314e-03,  6.4644129e-03,  1.3726946e-03,\n",
            "       -6.6112843e-03,  8.8164688e-04,  2.6792886e-03, -2.5261317e-03,\n",
            "       -4.9469052e-03,  5.0113886e-03,  9.6262004e-03, -7.3607676e-03,\n",
            "       -1.1346102e-04, -2.5683616e-03, -6.3524609e-03, -1.3838697e-03,\n",
            "       -5.2488451e-03,  9.0494351e-03, -5.7921167e-03,  3.6854069e-03],\n",
            "      dtype=float32), array([-2.3867635e-04,  4.2198640e-03,  2.1121551e-03,  9.9978540e-03,\n",
            "        6.2781287e-04, -5.4697525e-03, -1.1785034e-03,  2.0743823e-03,\n",
            "       -3.3768152e-03, -7.8515923e-03, -5.5988971e-03, -6.7522889e-03,\n",
            "        6.3490486e-03,  3.9261696e-03,  8.2155569e-03,  6.5229228e-03,\n",
            "       -6.1215037e-03,  2.7154635e-03,  8.4698936e-03,  1.5887831e-03,\n",
            "        3.0698245e-03,  5.8154301e-03, -8.8367304e-03,  9.1277836e-03,\n",
            "        6.8236939e-03,  8.5134739e-03, -8.2323728e-03,  6.1747027e-03,\n",
            "        6.6287401e-03, -1.3573729e-03, -6.2886123e-03,  5.3273160e-03,\n",
            "       -6.8565090e-03, -5.3287414e-03,  3.5121366e-03,  8.0797151e-03,\n",
            "        8.6941672e-03, -4.4050124e-03, -9.1875643e-03,  9.6058603e-03,\n",
            "        6.2869084e-03, -3.9697550e-03, -8.4601492e-03, -4.7182809e-03,\n",
            "       -3.9575449e-03, -3.2754184e-03,  8.1445358e-04, -2.9699522e-04,\n",
            "       -3.1083757e-03, -5.9936442e-03,  9.4190119e-03, -4.7281380e-03,\n",
            "       -7.2676460e-03,  7.6877829e-03,  2.5197424e-03,  8.6268028e-03,\n",
            "       -4.4606915e-03, -6.8938956e-03,  9.8476908e-04, -1.1677378e-03,\n",
            "       -9.3978057e-03, -1.6028844e-03,  3.0561527e-03,  6.5701413e-03,\n",
            "        6.8445248e-03,  3.2114785e-03, -4.4456064e-03, -1.8385203e-03,\n",
            "       -3.9423187e-03,  5.7746512e-03, -6.3571278e-03,  2.1057117e-03,\n",
            "       -1.3456038e-03, -5.8159321e-03, -7.2423248e-03,  5.8504534e-03,\n",
            "       -8.3589908e-03, -6.8397430e-04,  2.8283237e-03,  7.7361083e-03,\n",
            "       -7.2991503e-03,  3.3020880e-03,  9.8104263e-03, -6.9723581e-03,\n",
            "       -3.5333966e-03,  5.1337155e-03,  5.2415621e-03,  1.6256053e-03,\n",
            "        7.9731802e-03,  8.3075720e-04,  1.8738697e-03, -1.6023472e-03,\n",
            "       -8.1628691e-03,  3.2590893e-03,  1.9684727e-03, -8.7343846e-03,\n",
            "       -6.7257514e-04,  7.3290626e-05, -8.6231157e-06,  8.7151248e-03],\n",
            "      dtype=float32), array([-0.00250963, -0.00590241,  0.00748202, -0.00726037, -0.00896818,\n",
            "       -0.00179423, -0.00836569,  0.0003929 ,  0.00194393, -0.00247418,\n",
            "       -0.00644803, -0.00032319, -0.00110112,  0.00349587,  0.00812643,\n",
            "        0.00585916,  0.00844665, -0.00896798,  0.00943999, -0.00237049,\n",
            "        0.00869749,  0.00238703,  0.00358709, -0.00957885, -0.00948459,\n",
            "        0.00898552, -0.00290078,  0.00281422,  0.00641986, -0.00029889,\n",
            "        0.00972758, -0.0010331 , -0.00966965, -0.00705975, -0.00104282,\n",
            "       -0.00867613,  0.00742371,  0.00361929, -0.00874511,  0.00847806,\n",
            "        0.00892605,  0.0058447 ,  0.00691148, -0.00957019,  0.00049409,\n",
            "       -0.00922267, -0.0036688 ,  0.0002524 , -0.00027595,  0.00146686,\n",
            "        0.0032763 ,  0.00212586,  0.00531678,  0.00752118, -0.0058838 ,\n",
            "        0.00795957,  0.00599557,  0.00978758,  0.00462518, -0.00332138,\n",
            "       -0.00374505, -0.00062944, -0.00165117,  0.00987688,  0.00112261,\n",
            "        0.00400936,  0.00341548, -0.00885174,  0.00672027,  0.00819327,\n",
            "       -0.00166468,  0.00233341, -0.00647773, -0.0061267 ,  0.00821954,\n",
            "       -0.00304662,  0.00673916,  0.00155589, -0.00198145,  0.00305336,\n",
            "       -0.00402104, -0.0017875 ,  0.00138108,  0.00489108, -0.00140329,\n",
            "        0.00065692, -0.00793091,  0.00949695, -0.00876038,  0.0070687 ,\n",
            "        0.00390863, -0.00699634, -0.00529282, -0.00793801, -0.00512933,\n",
            "        0.00706887,  0.00964321,  0.00215125,  0.00063902,  0.00952653],\n",
            "      dtype=float32), array([-4.9770135e-03, -1.2845286e-03,  3.2725022e-03, -6.4069130e-03,\n",
            "       -9.7115682e-03, -9.2719793e-03,  9.0249470e-03,  5.3674649e-03,\n",
            "       -4.7964104e-03, -8.3362935e-03,  1.2936012e-03,  2.8732931e-03,\n",
            "       -1.2423879e-03,  1.2834239e-03, -4.3224352e-03,  4.7980738e-03,\n",
            "        1.4963768e-03,  8.8773398e-03, -9.9791856e-03, -5.2850549e-03,\n",
            "       -9.0957265e-03, -3.4152652e-04, -7.8528253e-03,  5.0448552e-03,\n",
            "       -6.3808598e-03, -5.9515811e-03,  5.0528413e-03, -8.1569059e-03,\n",
            "        1.4556785e-03, -7.2418437e-03,  9.8796291e-03,  8.6505739e-03,\n",
            "        1.7794314e-03,  5.7769706e-03,  4.5968620e-03, -5.9972419e-03,\n",
            "        9.7637651e-03, -9.6859820e-03,  8.0519933e-03,  2.7538687e-03,\n",
            "       -3.0696064e-03, -3.5674986e-03,  9.0821581e-03, -5.4488331e-03,\n",
            "        8.1886584e-03, -6.0124719e-03,  8.3778063e-03, -5.5164704e-04,\n",
            "        7.9538971e-03, -3.1535076e-03,  5.9775892e-03,  8.8080829e-03,\n",
            "        2.5312693e-03,  1.3249930e-03,  5.0430633e-03,  8.0038346e-03,\n",
            "        8.5779456e-03,  8.4946575e-03,  7.0533855e-03,  8.0233160e-03,\n",
            "        8.6070616e-03, -3.7916368e-05, -9.9306798e-04,  1.6780652e-03,\n",
            "        1.8858435e-06,  6.8209314e-04, -8.6134216e-03, -9.5998999e-03,\n",
            "       -2.3140246e-03,  8.9372275e-03, -3.6475658e-03, -6.9774631e-03,\n",
            "        4.8771948e-03,  1.0648322e-03,  1.8617004e-03,  3.6499342e-03,\n",
            "        3.5178617e-03,  5.7368493e-03,  1.2345309e-03,  8.4326125e-04,\n",
            "        9.0462221e-03,  2.7735042e-03, -4.7040773e-03,  6.5590842e-03,\n",
            "        5.2115321e-03,  2.8715073e-03, -3.1294096e-03,  3.3424417e-03,\n",
            "        6.3737836e-03,  7.0823892e-03,  9.4894145e-04, -8.5226772e-03,\n",
            "        2.5637809e-04,  3.6961582e-04,  3.9499076e-03, -9.4795292e-03,\n",
            "        9.7133145e-03, -6.9876467e-03,  5.7597137e-03, -9.4213113e-03],\n",
            "      dtype=float32), array([ 0.00964761,  0.0073251 ,  0.00125922, -0.00340319, -0.00045281,\n",
            "        0.00041868, -0.00640882,  0.00574257,  0.00236864,  0.00377464,\n",
            "       -0.00725463,  0.00852365,  0.00051294, -0.00019702, -0.00907154,\n",
            "        0.00405057,  0.00677245,  0.00735235, -0.00642121, -0.00786221,\n",
            "       -0.00552244, -0.00059967, -0.00833851, -0.00823272, -0.00191282,\n",
            "        0.00114014, -0.00951261, -0.00373136,  0.00064754,  0.00680987,\n",
            "        0.0017405 , -0.00062625, -0.00748102, -0.00674712, -0.00069135,\n",
            "        0.00746637,  0.00544831, -0.00148612,  0.00117465, -0.00960572,\n",
            "       -0.00139166, -0.00462957,  0.00581376, -0.00234233, -0.00476374,\n",
            "       -0.00947663, -0.00120796, -0.00719533, -0.00168156, -0.00407094,\n",
            "       -0.00237408, -0.00324786, -0.00816284, -0.00124623,  0.00169463,\n",
            "       -0.00404505, -0.0076354 , -0.00358399, -0.00904474, -0.00074826,\n",
            "        0.00588407, -0.00296676,  0.00316582,  0.00500178,  0.00846908,\n",
            "        0.0056194 ,  0.0095018 , -0.00964936, -0.00796343, -0.00675271,\n",
            "       -0.00746716, -0.0079634 , -0.00778948, -0.00294385,  0.00139629,\n",
            "       -0.00287786, -0.00881743,  0.00498943,  0.0009017 ,  0.0045902 ,\n",
            "        0.00719371,  0.00764597, -0.00080415,  0.00366633, -0.00512453,\n",
            "        0.00191296,  0.00453923,  0.0098904 , -0.00318051,  0.00284175,\n",
            "       -0.00573261, -0.00220722,  0.00812346, -0.00390453, -0.00118785,\n",
            "       -0.00928985, -0.00947382,  0.00887527, -0.00570358,  0.00505526],\n",
            "      dtype=float32), array([-6.9636069e-03, -2.4585116e-03, -8.0229370e-03,  7.5005279e-03,\n",
            "        6.1274157e-03,  5.2584694e-03,  8.3778575e-03, -6.9653272e-04,\n",
            "       -9.3127284e-03,  9.1156662e-03, -4.9285362e-03,  7.8479899e-03,\n",
            "        5.5338596e-03, -1.0790766e-03, -7.6642158e-03, -1.4598024e-03,\n",
            "        6.2535368e-03, -6.9660828e-03,  1.4420962e-03, -7.9518585e-03,\n",
            "        8.7213479e-03, -2.8557885e-03,  9.4373021e-03, -5.7080747e-03,\n",
            "       -9.7177243e-03, -8.6279036e-03, -4.0748348e-03,  4.7095944e-03,\n",
            "       -2.4193883e-04,  9.2235124e-03,  3.1092144e-03,  3.7477673e-03,\n",
            "        2.9963492e-03,  8.1486488e-03, -2.3967146e-03,  7.4073388e-03,\n",
            "       -9.5367134e-03,  2.9210865e-03, -6.8166968e-04,  4.5225740e-04,\n",
            "        6.8430100e-03, -2.8419732e-03, -2.3567795e-03, -1.0047674e-04,\n",
            "       -4.9769162e-04, -3.5749613e-03,  6.2444829e-03, -6.5586674e-03,\n",
            "        7.8919996e-03, -9.3460083e-05,  2.6088404e-03,  3.2231498e-03,\n",
            "       -2.8165340e-04,  1.7063022e-03, -3.1406546e-03,  4.7564553e-03,\n",
            "        2.4301052e-04, -3.2805956e-03, -8.7145744e-03, -9.9980794e-03,\n",
            "        3.1277776e-04, -5.7468102e-03, -1.1096597e-03, -4.2060935e-03,\n",
            "       -8.6388253e-03,  1.0620963e-03,  5.9110904e-03, -2.2109700e-03,\n",
            "       -7.1708169e-03,  3.1534373e-03, -3.8468599e-04, -5.5211424e-03,\n",
            "       -1.1056293e-03, -6.3965440e-04, -3.1830894e-03, -9.9550774e-03,\n",
            "        7.6385941e-03,  3.7260079e-03, -2.5292134e-03,  7.3071741e-03,\n",
            "        4.5459031e-04,  7.1731522e-03, -1.5475631e-03,  7.4936678e-03,\n",
            "       -4.2631626e-05, -6.0773613e-03, -4.7158506e-03,  9.6284244e-03,\n",
            "        5.8106182e-04,  1.0274005e-03,  8.4502874e-03, -6.2884046e-03,\n",
            "       -1.7638588e-03, -8.1789196e-03, -6.6747544e-03, -8.5804872e-03,\n",
            "        3.9306106e-03,  2.7393461e-03,  5.6154132e-03,  2.5717581e-03],\n",
            "      dtype=float32), array([ 0.00211182,  0.00573954, -0.00212325,  0.00317738,  0.00844151,\n",
            "        0.00038103,  0.00630133, -0.00674416,  0.00656832,  0.00468643,\n",
            "        0.00508178, -0.00992395, -0.00043238,  0.00321145, -0.00582522,\n",
            "       -0.0066942 ,  0.00637944, -0.00682657, -0.00518835,  0.00811203,\n",
            "       -0.00701882,  0.00855069,  0.00065686,  0.0044147 , -0.00300528,\n",
            "       -0.00542584, -0.00896247, -0.00061214, -0.00510439, -0.00308135,\n",
            "        0.00812181, -0.00764331, -0.00630629, -0.00527149, -0.00660334,\n",
            "       -0.00885114, -0.0011086 ,  0.00944924,  0.00804139, -0.00527618,\n",
            "       -0.00814997, -0.00226141, -0.00926662, -0.0050711 , -0.00595405,\n",
            "        0.00302041, -0.00757906,  0.00125461,  0.00229413,  0.00531796,\n",
            "       -0.00202484, -0.00977676,  0.00521143, -0.00590154,  0.00489096,\n",
            "        0.00197434,  0.00883048,  0.00152927, -0.00182709,  0.00650136,\n",
            "       -0.0070712 , -0.00839425,  0.00380003, -0.00257034, -0.00418863,\n",
            "       -0.00192231, -0.00988355,  0.0002611 , -0.00106182, -0.00297235,\n",
            "        0.00250267,  0.00469862,  0.00634289, -0.00792243, -0.00498495,\n",
            "       -0.00879089, -0.00895229, -0.00372185, -0.00127636, -0.00822053,\n",
            "       -0.00538162, -0.00215523,  0.00634705,  0.0015826 ,  0.00831851,\n",
            "       -0.00831803, -0.00456886, -0.0007983 ,  0.00880667,  0.00110421,\n",
            "        0.0015435 ,  0.00129723,  0.00292748, -0.00939491,  0.00326215,\n",
            "        0.00546569,  0.00529563,  0.00443271, -0.00809271, -0.0040532 ],\n",
            "      dtype=float32), array([ 8.3483346e-03, -5.7330990e-04, -9.4440151e-03,  4.7895829e-03,\n",
            "       -6.0578827e-03,  6.6635828e-03,  5.3837146e-03, -5.0379364e-03,\n",
            "        2.5612793e-03,  5.4026949e-03, -3.5841975e-03, -1.5258214e-03,\n",
            "        9.1675371e-03,  9.0755373e-03, -9.3982052e-03,  7.5737555e-03,\n",
            "        9.9113230e-03, -2.8420438e-03,  2.4528462e-03, -2.8235123e-03,\n",
            "        8.6469157e-03, -2.7669469e-04,  5.6389305e-03,  9.2261126e-03,\n",
            "        4.1193622e-03, -7.1212058e-03, -1.9480176e-03,  9.7743690e-04,\n",
            "        2.0349892e-03,  2.9514981e-03,  9.4736628e-03,  4.4093737e-03,\n",
            "        9.9269468e-03, -8.6743273e-03, -5.7555656e-03,  1.9791559e-03,\n",
            "        3.6687225e-03, -9.9503354e-04, -6.9060982e-03, -3.2170136e-03,\n",
            "       -8.5448958e-03,  9.4000679e-03,  3.7317704e-03, -7.8850333e-03,\n",
            "        3.1880271e-03,  4.1644019e-03, -5.6497511e-03, -5.9126117e-03,\n",
            "        1.0542928e-03,  8.9687286e-03, -9.6513648e-03,  2.5019167e-06,\n",
            "       -6.8764626e-03, -9.2251482e-04,  3.0484141e-03, -5.0238799e-03,\n",
            "       -2.7589821e-03,  6.7942531e-04, -6.3592242e-03,  7.3123099e-03,\n",
            "        4.3857265e-03, -8.5646519e-03, -2.1309089e-03,  3.1782377e-03,\n",
            "       -8.3343145e-03, -7.0646219e-03, -8.4698573e-03, -5.5018687e-03,\n",
            "        8.8499980e-03,  7.0855594e-03,  2.8885554e-03, -8.5522812e-03,\n",
            "        5.7511255e-03,  4.6258727e-03,  1.3296661e-04, -8.8467104e-03,\n",
            "       -1.8911336e-03,  2.0510569e-04, -7.7607851e-03,  2.4638120e-03,\n",
            "        4.8348957e-04, -7.0676068e-03, -8.2713235e-03,  6.0647535e-03,\n",
            "       -8.3470671e-03, -5.5819619e-03,  5.5862884e-03, -4.7937949e-04,\n",
            "       -3.0402662e-03, -5.1917476e-03, -1.1879968e-03,  5.2791187e-03,\n",
            "       -5.9429538e-03, -4.9780211e-03, -4.9366467e-03, -4.7652069e-03,\n",
            "       -7.9725152e-03, -9.7714504e-03,  7.5802850e-03,  8.0026919e-03],\n",
            "      dtype=float32), array([-4.2872792e-03, -9.3266293e-03, -1.8783050e-03, -3.7034913e-03,\n",
            "        9.0943780e-03,  2.9304535e-03, -5.9762462e-03, -3.3548449e-03,\n",
            "       -9.9089798e-03,  1.9370939e-03, -3.9891605e-03, -2.7134465e-03,\n",
            "        5.1720985e-03,  7.6058400e-03,  4.3850262e-03, -6.8157157e-03,\n",
            "        6.7127543e-03, -9.6328864e-03, -6.9893701e-03, -8.0166431e-03,\n",
            "       -2.2576633e-03,  4.8298406e-04, -3.7683565e-03,  1.8522721e-03,\n",
            "        9.2168795e-03,  6.6823526e-03, -1.0686133e-03,  9.0919314e-03,\n",
            "        1.5569584e-03, -1.9740525e-03, -6.5810014e-03,  6.4777397e-03,\n",
            "       -9.0626441e-03, -1.9075064e-03,  7.6941201e-03, -2.5920449e-03,\n",
            "        1.6086878e-03, -7.3430673e-03,  4.9820766e-03,  7.3702126e-03,\n",
            "       -9.3169864e-03, -3.2849808e-03,  7.8956308e-03,  2.9332526e-03,\n",
            "        1.2095837e-05,  3.3908183e-04, -9.8736947e-03,  9.9381199e-03,\n",
            "       -1.9927693e-03, -4.8842970e-03,  2.7463778e-03,  1.0269341e-03,\n",
            "       -5.9417803e-03,  5.7985173e-03, -2.5000905e-03, -6.1757863e-03,\n",
            "        7.2451229e-03,  6.4623835e-03,  8.8203968e-03,  1.1758816e-03,\n",
            "        5.1125663e-04, -7.9291137e-03,  4.6593375e-03,  9.3707973e-03,\n",
            "       -6.8161584e-04, -1.7591293e-03, -3.8172770e-03, -4.9082813e-04,\n",
            "       -7.6183258e-03,  5.6914468e-03,  1.4940226e-03,  9.2943627e-03,\n",
            "       -6.4244503e-03, -5.0933133e-03, -6.2251063e-03, -7.2797593e-03,\n",
            "        2.7531546e-03,  4.9024168e-03,  1.3433803e-03,  3.5355082e-03,\n",
            "       -9.3913889e-03, -1.0758103e-03, -7.7396687e-03,  2.9630910e-03,\n",
            "       -2.6833161e-03,  8.8825524e-03, -3.4281283e-03,  6.8423417e-03,\n",
            "        4.1205166e-03,  1.3617646e-03, -3.3770189e-05,  8.1782928e-03,\n",
            "        2.3674981e-03,  8.2593504e-03,  3.3389176e-03,  5.4215044e-03,\n",
            "        5.1065497e-03, -7.6363790e-03, -5.7941321e-03,  1.2422409e-03],\n",
            "      dtype=float32), array([ 2.0492663e-04,  2.1361120e-03,  1.0698542e-03,  7.5981822e-03,\n",
            "       -4.4338075e-03,  3.1475184e-04,  7.0186816e-03,  2.2679414e-03,\n",
            "        4.2405641e-03,  4.2920215e-03, -1.2574386e-03, -8.3353426e-03,\n",
            "        3.0507634e-03, -8.8595431e-03, -2.6739223e-03, -9.3910946e-03,\n",
            "       -4.5076886e-04, -7.8696497e-03,  7.4129407e-03, -4.9066129e-03,\n",
            "        9.9214539e-03, -9.0293679e-03, -4.3113208e-03,  1.9290590e-03,\n",
            "       -2.9955839e-03,  1.4406418e-03, -3.6907292e-03, -8.8811829e-04,\n",
            "       -5.7286192e-03, -9.8248245e-03,  6.3478709e-03,  3.8287989e-04,\n",
            "        6.5216003e-03, -7.4810549e-03,  3.6529119e-03, -9.8934099e-03,\n",
            "        7.6263584e-03,  5.9131021e-03, -6.1208499e-03,  8.2059577e-03,\n",
            "       -5.5873115e-03, -8.5552121e-03,  1.4975184e-03,  3.1755047e-03,\n",
            "       -8.0954907e-03, -8.9336727e-03,  9.1615338e-03,  1.6432087e-03,\n",
            "        8.8048272e-04,  2.4893680e-03, -3.5173683e-03,  1.7313454e-03,\n",
            "        1.9514166e-03,  9.8134773e-03, -5.6013647e-03,  2.2722513e-03,\n",
            "        6.3107014e-03, -6.6816914e-03, -8.9321947e-03,  8.6685168e-03,\n",
            "        6.8379352e-03, -4.0267268e-03,  5.7518296e-03,  7.8755099e-04,\n",
            "       -5.0226236e-03, -1.3427421e-03, -4.9153864e-03,  6.1309971e-03,\n",
            "        1.9548482e-03, -8.3168168e-03, -1.3968363e-04, -2.6367274e-03,\n",
            "        6.6170674e-03, -1.1536862e-03,  7.6748133e-03,  1.9402552e-03,\n",
            "       -3.8281318e-03,  8.1604943e-03,  2.9447989e-03, -3.9724801e-03,\n",
            "       -5.6001889e-03, -3.0916536e-03, -5.1408061e-03,  3.4541367e-03,\n",
            "       -9.2893355e-03, -5.8274814e-03,  3.3397600e-03,  1.9174367e-04,\n",
            "        6.0015707e-03, -3.5971694e-03, -3.3172028e-06,  2.4783437e-03,\n",
            "        5.4612230e-03,  1.6151152e-03,  9.8284688e-03,  3.7156532e-03,\n",
            "       -7.1930462e-03, -1.4126982e-03, -8.3608255e-03, -5.3249993e-03],\n",
            "      dtype=float32), array([-0.0021964 , -0.00970784,  0.00929244,  0.00203433, -0.00116367,\n",
            "       -0.00550698, -0.00850923, -0.0099035 ,  0.00894139, -0.00250107,\n",
            "        0.00459207, -0.00451801,  0.00995679,  0.0036571 ,  0.00102628,\n",
            "       -0.00404258,  0.00121579, -0.00264618,  0.00735137,  0.00447345,\n",
            "        0.00099032,  0.00348356,  0.00371644, -0.00678278,  0.00893547,\n",
            "        0.00173742, -0.00579261,  0.00865713, -0.00129168,  0.00818594,\n",
            "       -0.00150212,  0.00699172,  0.00272978, -0.00436219, -0.00374758,\n",
            "        0.00918977,  0.00159222, -0.00600635,  0.00034991, -0.00196388,\n",
            "        0.00158186, -0.0077194 ,  0.00738674,  0.00131133,  0.00787449,\n",
            "        0.00445209, -0.00439749,  0.00375366, -0.00063519, -0.00985568,\n",
            "        0.00824093,  0.00964973,  0.00964949, -0.00379703, -0.0084494 ,\n",
            "        0.00482736, -0.00765328,  0.00853038,  0.00275949,  0.00560766,\n",
            "        0.00611848,  0.00046565, -0.00209105,  0.00077623,  0.00983545,\n",
            "       -0.00712416, -0.0015535 , -0.002358  ,  0.00486615,  0.00645037,\n",
            "       -0.00413144,  0.00362424, -0.00448253,  0.00326962,  0.00817319,\n",
            "        0.00362834, -0.00457266, -0.00300562,  0.00786665,  0.0096025 ,\n",
            "        0.00581722, -0.00327682, -0.00182522, -0.0062526 , -0.00429589,\n",
            "        0.00337408, -0.00648432, -0.00661482,  0.00811231,  0.0095046 ,\n",
            "        0.00814268,  0.00151324, -0.00879485, -0.00759613,  0.00157414,\n",
            "       -0.009529  , -0.00740887,  0.00202054, -0.00292224, -0.00915349],\n",
            "      dtype=float32), array([ 6.4145108e-03, -8.9508714e-03, -7.3479055e-03, -1.7490950e-03,\n",
            "        1.6958625e-03, -1.0381605e-03, -5.2038897e-03,  6.5766675e-03,\n",
            "        8.7800520e-03, -7.4153938e-03,  9.8059485e-03,  7.3640039e-03,\n",
            "       -7.4560414e-03, -1.8930553e-03,  4.2521055e-03,  7.0614233e-03,\n",
            "       -3.6546695e-03, -6.9758259e-03,  4.7211540e-03, -9.0447571e-03,\n",
            "       -5.8490327e-03, -1.2802550e-03,  5.4803840e-03, -5.6795399e-03,\n",
            "        4.7895350e-03, -4.3408942e-04,  2.6612072e-03,  6.4055063e-03,\n",
            "        1.4203931e-03,  7.7084834e-03, -3.1689316e-04, -8.2575744e-03,\n",
            "        9.1788769e-03, -4.8632240e-03,  4.7249831e-03, -3.9039901e-03,\n",
            "       -7.3240828e-03, -6.5160831e-03,  4.6796738e-03, -6.5937079e-04,\n",
            "        1.4531049e-03, -8.9316210e-03, -5.1421039e-03, -6.0587432e-03,\n",
            "        8.4131174e-03, -8.6989431e-03,  5.0171968e-03, -8.5891690e-04,\n",
            "        1.9303939e-04,  8.7986365e-03, -3.5853814e-03, -6.9368640e-03,\n",
            "        7.5721025e-04,  7.7450192e-03,  9.1245463e-03, -3.6821198e-03,\n",
            "        2.7388544e-03,  4.9452581e-03, -5.2896542e-03,  6.8626963e-03,\n",
            "       -6.4519024e-03,  2.0954260e-03,  4.5913165e-03,  4.3911720e-03,\n",
            "       -4.6656346e-03,  2.6404024e-03,  7.3032165e-03,  8.6090118e-03,\n",
            "       -9.5132869e-03,  5.5801920e-03,  4.9686078e-03, -1.5945355e-03,\n",
            "        9.1855694e-03, -4.1822358e-03, -1.7485934e-03, -6.8663792e-03,\n",
            "       -3.7778534e-03,  2.4624524e-04, -3.2707213e-03, -5.4174690e-03,\n",
            "        6.5672458e-03, -5.3051831e-03, -6.3211373e-03,  7.6473351e-03,\n",
            "        9.6502295e-03,  3.9971960e-03,  2.7286545e-05,  7.9303299e-04,\n",
            "       -9.5457048e-04,  6.8650683e-03, -6.2492504e-03,  5.1095692e-04,\n",
            "        4.2905174e-03, -2.1112883e-03,  8.9461223e-04,  3.7052697e-03,\n",
            "        9.7130043e-03,  2.1682617e-03,  9.4995098e-03, -5.8273794e-03],\n",
            "      dtype=float32), array([ 0.00480052, -0.00363067, -0.00426901,  0.00122392, -0.00414049,\n",
            "       -0.00564462,  0.00314928,  0.0083449 , -0.00655273, -0.00912966,\n",
            "       -0.00333068,  0.00751866, -0.00968802,  0.0096116 , -0.00042215,\n",
            "        0.00231388, -0.00182593, -0.00576563,  0.00309367,  0.00617479,\n",
            "       -0.00705278, -0.00116551,  0.00156274,  0.00425965,  0.00715172,\n",
            "       -0.00354467,  0.00725425, -0.00557001, -0.00219223,  0.00908775,\n",
            "        0.00540295, -0.00847764, -0.00164154, -0.00885624, -0.00164252,\n",
            "        0.00565362, -0.00740594,  0.00550237,  0.00609458, -0.00377527,\n",
            "       -0.00967305, -0.00252808, -0.0025451 ,  0.00375588,  0.00892472,\n",
            "        0.00198641, -0.00212309,  0.00296908, -0.00678979, -0.00128805,\n",
            "       -0.00148786,  0.00960304, -0.00582238, -0.00703238,  0.00236848,\n",
            "        0.00264145, -0.00713213, -0.00587015, -0.00117708, -0.00327706,\n",
            "       -0.00896917, -0.0040561 , -0.00295047,  0.00651806,  0.00096947,\n",
            "        0.00160263,  0.00026294, -0.00338928,  0.0030975 ,  0.00072325,\n",
            "        0.00598521, -0.00077245, -0.00889516,  0.00087642,  0.00993668,\n",
            "       -0.00525283, -0.00522353, -0.0025069 ,  0.00858153, -0.00083469,\n",
            "        0.00941847, -0.00834268,  0.00901484, -0.00969248,  0.00920113,\n",
            "        0.00187427,  0.0026647 , -0.00585255,  0.00845302,  0.00604689,\n",
            "       -0.00547609, -0.00949109,  0.00697013, -0.00553678, -0.00931316,\n",
            "        0.00258596, -0.00497245, -0.00737416,  0.00973006, -0.00158013],\n",
            "      dtype=float32), array([-1.5073883e-03, -4.0390785e-03, -4.3993206e-03, -4.6230471e-03,\n",
            "       -5.6039519e-03, -5.3101592e-03, -8.0141956e-03,  9.5229698e-03,\n",
            "        6.3966219e-03, -3.6131197e-03,  2.4807230e-03, -7.6516094e-03,\n",
            "        7.5296802e-03,  8.3160428e-03,  7.8226964e-04, -6.8314867e-03,\n",
            "       -2.9440450e-03,  4.7291513e-03, -2.9437132e-03,  3.1643144e-03,\n",
            "        9.4095748e-03,  4.3577645e-03, -5.1460424e-03,  5.4746331e-03,\n",
            "       -2.8735125e-03, -6.3959779e-03,  6.9959406e-03, -9.2502031e-03,\n",
            "       -1.1314369e-03, -1.3881957e-03, -8.4047923e-03, -1.0967108e-03,\n",
            "        5.6055207e-03, -5.2794954e-03, -7.0287935e-03,  6.1977911e-03,\n",
            "       -3.4145119e-03, -7.8282598e-03,  2.9374420e-04, -5.2053088e-05,\n",
            "        7.5267153e-03,  5.6478026e-04,  7.8862607e-03, -9.8176850e-03,\n",
            "        4.0355851e-03,  6.2136827e-03,  1.0217679e-03, -2.8355166e-03,\n",
            "        1.0339878e-03, -8.3409646e-04, -8.1129288e-03, -6.7839352e-03,\n",
            "        1.1937196e-03, -2.0122624e-03,  9.5547270e-03, -9.4696158e-04,\n",
            "        6.1265426e-03,  2.0495802e-03,  8.1018610e-03, -9.2735142e-03,\n",
            "        2.3972888e-03, -1.4602612e-03,  2.1629347e-03, -2.1254345e-04,\n",
            "       -6.6470476e-03,  9.0509476e-03, -2.8593945e-03,  1.9103787e-03,\n",
            "       -6.4455615e-03,  3.7226349e-03,  9.9979648e-03, -1.1921517e-03,\n",
            "        6.5869298e-03, -1.3091505e-04,  7.9340627e-03,  9.6456110e-03,\n",
            "       -3.9517420e-04, -1.6918876e-03, -9.5245279e-03,  9.8738214e-03,\n",
            "       -2.5343059e-03,  2.1852967e-03, -1.7045311e-03,  8.3407620e-03,\n",
            "        8.3403317e-03,  1.5359350e-03,  2.8868562e-03,  6.4352546e-03,\n",
            "        2.2578165e-03,  6.4490470e-03,  1.5149239e-04, -2.2814164e-03,\n",
            "        5.3071161e-03, -3.4162537e-03, -2.6068373e-03,  8.7861335e-03,\n",
            "       -9.1556655e-03, -3.4234603e-03, -2.9238213e-03,  5.6694867e-03],\n",
            "      dtype=float32), array([ 0.0079435 , -0.00645161,  0.00579453, -0.00021767, -0.00903186,\n",
            "       -0.00244267, -0.00158433, -0.00448082, -0.00079378, -0.00523843,\n",
            "        0.00594059,  0.00930338, -0.00158767,  0.00337674, -0.00074802,\n",
            "       -0.00069963, -0.00701056,  0.0014569 ,  0.00390269,  0.00691007,\n",
            "        0.00653884,  0.0035366 ,  0.00466167, -0.00743211, -0.0013865 ,\n",
            "       -0.00578264,  0.00680105,  0.00782664, -0.00427402,  0.00115366,\n",
            "        0.0051094 ,  0.00180948,  0.00078592, -0.00674016,  0.00983268,\n",
            "       -0.0072597 , -0.00603375, -0.00566608, -0.00634796, -0.00349106,\n",
            "       -0.0094003 ,  0.00117813, -0.00375023, -0.00255129,  0.00578494,\n",
            "        0.00355048,  0.00182092, -0.00137405,  0.00987748,  0.00028656,\n",
            "        0.00501546,  0.00903775, -0.00976658, -0.00915537,  0.00992283,\n",
            "        0.00273679, -0.00188558,  0.00472406, -0.0043154 , -0.00639764,\n",
            "       -0.00825741,  0.00721012, -0.00244937, -0.00754317, -0.00591039,\n",
            "        0.00617552, -0.00247969, -0.00614579, -0.00161798, -0.00147355,\n",
            "       -0.00325484, -0.00208924,  0.00410573,  0.0014466 , -0.00349034,\n",
            "        0.00269237,  0.00522894, -0.00919081, -0.00755834,  0.00629637,\n",
            "       -0.0089381 ,  0.00052822, -0.00899382,  0.00836983, -0.00429354,\n",
            "       -0.0066205 , -0.00138377, -0.00111367,  0.00753303,  0.00910952,\n",
            "       -0.00035077,  0.00269358,  0.0047372 ,  0.00014275, -0.00578   ,\n",
            "       -0.00059442,  0.00218297,  0.00830171, -0.00359233, -0.00984555],\n",
            "      dtype=float32), array([ 5.3829267e-03,  9.8106898e-03, -7.0547746e-03, -5.8250665e-04,\n",
            "       -5.0645340e-03,  6.4350259e-03,  9.6573029e-03, -3.3306240e-04,\n",
            "        5.1404452e-03,  6.5386808e-03,  4.4090427e-03, -8.0312332e-03,\n",
            "        3.1026434e-03, -1.4863861e-03, -2.1610796e-03,  5.4020835e-03,\n",
            "       -1.3170600e-03,  9.9274693e-03, -6.3917873e-04,  2.6362896e-04,\n",
            "       -2.2936391e-03, -8.5134944e-03, -9.8111508e-03,  4.9507655e-03,\n",
            "       -6.6208350e-03,  2.9654969e-03,  2.7743829e-03, -7.0067821e-03,\n",
            "       -3.1360174e-03, -5.8075618e-03, -8.5645560e-03,  3.8166047e-05,\n",
            "        9.7870557e-03, -6.6758823e-03, -4.3618535e-03,  8.3303275e-03,\n",
            "        9.2985127e-03,  9.8154061e-03, -9.8923175e-03,  5.0479542e-03,\n",
            "       -6.6420911e-03,  6.8798447e-03,  6.1408984e-03, -3.3756078e-03,\n",
            "        6.8841362e-03, -7.8663919e-03,  4.5495653e-03,  4.5803715e-03,\n",
            "        5.9232819e-03,  5.8795023e-03, -2.6633476e-03,  3.8956022e-03,\n",
            "       -6.1085271e-03, -6.4589716e-03,  2.7430165e-03, -9.4661880e-03,\n",
            "       -2.9909133e-04,  1.0911369e-03,  8.0044614e-03, -7.0015872e-03,\n",
            "       -2.3229539e-03, -4.1061365e-03, -5.2279388e-03, -4.7188759e-04,\n",
            "        4.6112146e-03, -4.9819136e-03, -1.6456568e-03,  8.6563788e-03,\n",
            "       -1.3084364e-03, -3.5718156e-03,  7.4316356e-03,  1.2192046e-03,\n",
            "       -3.4047366e-04,  9.4597749e-03,  8.1256069e-03,  3.4178542e-03,\n",
            "        3.3582544e-03, -2.2847129e-03,  8.0945203e-03,  5.0608860e-03,\n",
            "       -5.4257442e-03, -6.1291386e-03, -5.9935212e-04, -7.9204561e-03,\n",
            "        3.3667099e-03, -9.2244186e-03, -1.5445673e-03,  3.3561743e-03,\n",
            "        3.0458248e-03,  3.1597614e-03, -9.0636667e-03,  3.4191823e-03,\n",
            "        5.3463373e-03,  3.4679305e-03,  7.7929161e-03,  1.6555488e-03,\n",
            "        6.2702191e-03,  8.8351145e-03, -9.4265700e-04, -8.0324174e-04],\n",
            "      dtype=float32), array([ 2.2226966e-03, -7.5327228e-03,  5.6220409e-03, -4.9947375e-03,\n",
            "       -3.2870744e-03, -1.8490984e-03,  8.2193734e-03,  2.2524949e-03,\n",
            "       -9.2026038e-04, -2.8585452e-03, -2.1108082e-03, -1.2886459e-03,\n",
            "       -5.0906246e-03, -4.1193487e-03,  1.8725255e-04,  4.5657894e-03,\n",
            "        1.8163684e-03,  6.9040298e-03,  6.3413812e-04, -3.2493058e-03,\n",
            "       -7.3641329e-03,  6.0145748e-03,  6.9789430e-03, -6.0478472e-03,\n",
            "        4.6966812e-03,  9.5043164e-03, -6.3991384e-03, -2.8810475e-03,\n",
            "       -9.0902317e-03,  3.2287552e-03, -3.4229301e-03,  2.0540054e-03,\n",
            "        9.4574941e-03, -8.3680674e-03, -9.3122665e-03,  1.7132582e-03,\n",
            "       -8.0299694e-03, -9.0691466e-03, -9.3536051e-03, -2.9877442e-04,\n",
            "       -1.1140541e-03,  7.3794211e-04, -1.3347265e-03,  9.0400632e-03,\n",
            "        8.7876320e-03, -6.3652876e-03,  8.6801769e-03, -9.0260021e-03,\n",
            "       -1.3219890e-03,  2.5463742e-03, -1.1867449e-04, -3.8010420e-03,\n",
            "        4.5238493e-04,  1.0149112e-03, -9.4019603e-03, -4.8875026e-03,\n",
            "       -7.6996712e-03,  3.8021356e-03, -8.8400737e-04, -7.4627968e-03,\n",
            "        5.6428360e-03,  2.4073428e-04,  2.7123925e-03,  5.4414812e-03,\n",
            "       -4.2326609e-03,  7.8505557e-03, -7.8654848e-03, -3.4420479e-03,\n",
            "       -7.3676514e-03,  9.7775320e-04, -7.3856353e-03,  9.0693962e-03,\n",
            "        5.5311769e-03, -7.2364337e-03,  6.1912178e-03,  6.6060605e-03,\n",
            "       -7.4108145e-03,  4.6653366e-03, -7.7205868e-03,  9.3116928e-03,\n",
            "        4.6935854e-03, -2.3762821e-04, -8.9387642e-03, -8.7371661e-04,\n",
            "       -2.7128996e-04,  9.0763235e-04,  8.6706039e-03, -2.7709652e-03,\n",
            "       -8.6777275e-03, -8.8343630e-03, -1.0449931e-03,  1.3833530e-03,\n",
            "        9.1779184e-05, -2.1969776e-03,  8.5532619e-03,  9.9010154e-05,\n",
            "        6.4226734e-03,  3.9770873e-03, -7.2040916e-03, -2.1097439e-03],\n",
            "      dtype=float32), array([-0.00777565, -0.00675824, -0.0031548 ,  0.00661711, -0.00083689,\n",
            "        0.00888134, -0.00229082, -0.0053022 ,  0.00391462,  0.00221417,\n",
            "       -0.00027984, -0.00245391, -0.00600083,  0.00404117, -0.00761292,\n",
            "       -0.00890516, -0.00915821,  0.00838796,  0.00399969,  0.00708906,\n",
            "        0.0098914 , -0.00722594,  0.00402779,  0.00282325,  0.00615641,\n",
            "       -0.0033889 ,  0.00932861, -0.00579909,  0.0070331 ,  0.0069492 ,\n",
            "       -0.00038808,  0.00506175,  0.00664678,  0.00154064,  0.00736915,\n",
            "        0.00240844, -0.00151726,  0.00739211,  0.00468799, -0.00317261,\n",
            "        0.00164362, -0.00014201,  0.00496555, -0.00541484, -0.00418366,\n",
            "       -0.00093891,  0.00382058, -0.00658169,  0.00784762, -0.00308738,\n",
            "        0.00573923,  0.00286459,  0.00681987, -0.00446455, -0.0032    ,\n",
            "        0.00305846, -0.00277276,  0.00594322, -0.0059541 ,  0.00259587,\n",
            "       -0.00072149, -0.00061532,  0.0025401 , -0.00218291, -0.00425834,\n",
            "       -0.00855217,  0.00248598,  0.00532374, -0.00586765,  0.00911177,\n",
            "        0.0040373 , -0.00517672, -0.00131207,  0.00392609, -0.0070031 ,\n",
            "        0.00205385,  0.00550573,  0.00625702,  0.00542663,  0.00366006,\n",
            "       -0.00275184, -0.00607959,  0.00815895, -0.00729811, -0.00162046,\n",
            "       -0.00326351,  0.00648965, -0.00627669,  0.00339817,  0.00204927,\n",
            "       -0.00407813, -0.0082429 , -0.00803721,  0.00350534, -0.00956037,\n",
            "        0.00570473, -0.00291308, -0.00917618, -0.00513546,  0.00774497],\n",
            "      dtype=float32)]\n"
          ]
        }
      ]
    },
    {
      "cell_type": "code",
      "source": [
        "import matplotlib.pyplot as plt\n",
        "from sklearn.decomposition import PCA\n"
      ],
      "metadata": {
        "id": "zTdFHY0Idmum"
      },
      "execution_count": 160,
      "outputs": []
    },
    {
      "cell_type": "code",
      "source": [
        "pca=PCA(n_components=2)"
      ],
      "metadata": {
        "id": "7xfpGff4eQuh"
      },
      "execution_count": 161,
      "outputs": []
    },
    {
      "cell_type": "code",
      "source": [
        "vectors_2d= pca.fit_transform(vectors)"
      ],
      "metadata": {
        "id": "6w2aofWdeYJb"
      },
      "execution_count": 162,
      "outputs": []
    },
    {
      "cell_type": "code",
      "source": [
        "print(vectors_2d)"
      ],
      "metadata": {
        "colab": {
          "base_uri": "https://localhost:8080/"
        },
        "id": "mUT5NbM1eewc",
        "outputId": "037183ff-c5ee-4c57-d60d-6cdda0452d4a"
      },
      "execution_count": 163,
      "outputs": [
        {
          "output_type": "stream",
          "name": "stdout",
          "text": [
            "[[ 0.02057182  0.00231718]\n",
            " [-0.02445492  0.00768732]\n",
            " [ 0.01602358  0.02342559]\n",
            " [-0.01337215  0.007033  ]\n",
            " [-0.00459592  0.01884082]\n",
            " [-0.01455884  0.03161935]\n",
            " [ 0.02137225 -0.00987172]\n",
            " [ 0.00132838 -0.01325149]\n",
            " [ 0.00838844  0.0231977 ]\n",
            " [ 0.01198415 -0.00779463]\n",
            " [-0.00085624 -0.01690776]\n",
            " [-0.00261994  0.01298299]\n",
            " [ 0.00541789 -0.00801201]\n",
            " [-0.01888002 -0.00524557]\n",
            " [-0.01429051 -0.00772617]\n",
            " [-0.01546365  0.00146777]\n",
            " [ 0.01664688  0.00083375]\n",
            " [-0.02799371  0.00738951]\n",
            " [ 0.00042018  0.00268376]\n",
            " [ 0.01427392 -0.01424843]\n",
            " [ 0.00158789  0.01879889]\n",
            " [ 0.00275923 -0.01185239]\n",
            " [-0.02361909 -0.01366455]\n",
            " [-0.02125822 -0.03035204]\n",
            " [-0.01045655 -0.00686847]\n",
            " [ 0.00161497 -0.01348552]\n",
            " [ 0.00445168 -0.00477005]\n",
            " [ 0.00691141  0.02330143]\n",
            " [ 0.02952217 -0.01519884]\n",
            " [-0.0042108  -0.00936555]\n",
            " [-0.00515427  0.01866977]\n",
            " [-0.0198456  -0.01770367]\n",
            " [ 0.01512717  0.00148332]\n",
            " [ 0.00741036  0.00334053]\n",
            " [ 0.00925931 -0.0029378 ]\n",
            " [ 0.01486751 -0.01049189]\n",
            " [ 0.0047975   0.01400117]\n",
            " [ 0.01231801 -0.00696409]\n",
            " [-0.00542428  0.00763881]]\n"
          ]
        }
      ]
    },
    {
      "cell_type": "code",
      "source": [
        "# Plot the vectors in a plane\n",
        "plt.figure(figsize=(10, 10))\n",
        "plt.scatter(vectors_2d[:, 0], vectors_2d[:, 1], s=10)\n",
        "for i, word in enumerate(words):\n",
        "    plt.annotate(word, xy=(vectors_2d[i, 0], vectors_2d[i, 1]))\n",
        "plt.show()"
      ],
      "metadata": {
        "colab": {
          "base_uri": "https://localhost:8080/",
          "height": 830
        },
        "id": "iJ_k8-6-fWFv",
        "outputId": "00017904-b36c-46db-adf4-d144b58d7093"
      },
      "execution_count": 165,
      "outputs": [
        {
          "output_type": "display_data",
          "data": {
            "text/plain": [
              "<Figure size 1000x1000 with 1 Axes>"
            ],
            "image/png": "[encoded data removed]"
          },
          "metadata": {}
        }
      ]
    },
    {
      "cell_type": "markdown",
      "source": [
        "**b. write (type) the working and flow of the code.**"
      ],
      "metadata": {
        "id": "oeT2nNmPe0iv"
      }
    },
    {
      "cell_type": "markdown",
      "source": [
        "**Word2Vec Transformation**\n",
        "\n",
        "* Word2Vec is a widely used technique in natural language processing for generating word embeddings, which are dense representations of words in a continuous vector space.\n",
        "\n",
        "* Process of transforming a word in the corpus to a vector space form called Word2Vec."
      ],
      "metadata": {
        "id": "5J9R4o7MgJ25"
      }
    },
    {
      "cell_type": "markdown",
      "source": [
        "**Word2Vec follows two primary methods**\n",
        "\n",
        "* **CBOW**\n",
        "\n",
        "* **Skip-Gram**\n",
        "\n",
        "Explained as Follows:\n",
        "\n",
        "**CBOW**\n",
        "**(Continuous Bag of Words)**\n",
        "\n",
        "*   Target focused on one single word\n",
        "\n",
        "*   Single word Centric Process\n",
        "*   Aims to predict the target word.\n",
        "*   Aggregates the vector representations of the context words\n",
        "*   Uses this combined representation to predict the target words\n",
        "*   Faster to train for frequency words.\n",
        "*   Averaged vector representation of the context words.\n",
        "\n",
        "\n",
        "\n",
        "**Skip-Gram**\n",
        "\n",
        "Predict word based on surrounding context\n",
        "\n",
        "*   Predict word based on surrounding context\n",
        "\n",
        "*   Skip-gram aims to predict the surrounding context words.\n",
        "*   Skip-gram takes a target word and generates multiple context pairs\n",
        "*   Each context word is paired with the target word\n",
        "*   Skip-gram predicts the context words from the target word, considering all context-target pairs."
      ],
      "metadata": {
        "id": "xtt6DNFkhv6w"
      }
    }
  ]
}